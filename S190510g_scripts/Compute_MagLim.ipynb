{
 "cells": [
  {
   "cell_type": "code",
   "execution_count": 1,
   "metadata": {},
   "outputs": [],
   "source": [
    "import easyaccess as ea\n",
    "import numpy as np\n",
    "import pandas as pd\n",
    "import math\n",
    "import glob"
   ]
  },
  {
   "cell_type": "markdown",
   "metadata": {},
   "source": [
    "### $depth = const + 1.25*\\log((qc_{teff}*exptime)/90.)$\n",
    "const from https://des-docdb.fnal.gov/cgi-bin/private/RetrieveFile?docid=8709&filename=teff.pdf&version=11, where:\n",
    "- g = 23.4\n",
    "- r = 23.1\n",
    "- i = 22.5\n",
    "- z = 21.8\n",
    "- Y = 20.3"
   ]
  },
  {
   "cell_type": "code",
   "execution_count": null,
   "metadata": {},
   "outputs": [],
   "source": [
    "def depth(exptime, teff, band):\n",
    "    if band =='g':\n",
    "        const = 23.4\n",
    "    if band == 'r':\n",
    "        const = 23.1\n",
    "    if band == 'i':\n",
    "        const = 22.5\n",
    "    if band == 'z':\n",
    "        const = 21.8\n",
    "    if band == 'Y':\n",
    "        const = 20.3\n",
    "    maglim = const + 1.25*np.log10(teff*exptime/90.)\n",
    "    \n",
    "    return maglim"
   ]
  },
  {
   "cell_type": "markdown",
   "metadata": {},
   "source": [
    "## Load exposure list data to get t_eff"
   ]
  },
  {
   "cell_type": "code",
   "execution_count": 2,
   "metadata": {},
   "outputs": [],
   "source": [
    "exptime, teff = np.loadtxt('/home/s1/alyssag/alyssag/SNANA/RMsims/190510explist.list', usecols=(6,9), unpack=True)\n",
    "band = np.loadtxt('/home/s1/alyssag/alyssag/SNANA/RMsims/190510explist.list', usecols=(5), unpack=True, dtype='str')\n"
   ]
  },
  {
   "cell_type": "code",
   "execution_count": 32,
   "metadata": {},
   "outputs": [
    {
     "data": {
      "text/plain": [
       "80"
      ]
     },
     "execution_count": 32,
     "metadata": {},
     "output_type": "execute_result"
    }
   ],
   "source": [
    "#print band, exptime, teff\n",
    "len(exptime)\n",
    "#print 80.*(80. + 15.) / 60. "
   ]
  },
  {
   "cell_type": "markdown",
   "metadata": {},
   "source": [
    "### Calculate the average depth for each band"
   ]
  },
  {
   "cell_type": "code",
   "execution_count": 61,
   "metadata": {},
   "outputs": [],
   "source": [
    "maglims_g = []\n",
    "maglims_r = []\n",
    "maglims_z = []\n",
    "for i in range(len(teff)):\n",
    "    if band[i] =='g':\n",
    "        maglims_g.append(depth(exptime[i]*1,teff[i],band[i]))\n",
    "    elif band[i] == 'r':\n",
    "        maglims_r.append(depth(exptime[i]*1,teff[i],band[i]))\n",
    "    elif band[i] == 'z':\n",
    "        maglims_z.append(depth(exptime[i]*1.,teff[i],band[i]))"
   ]
  },
  {
   "cell_type": "code",
   "execution_count": 62,
   "metadata": {},
   "outputs": [],
   "source": [
    "limiting_mag_g = sum(maglims_g)/len(maglims_g)\n",
    "limiting_mag_r = sum(maglims_r)/len(maglims_r)\n",
    "limiting_mag_z = sum(maglims_z)/len(maglims_z)"
   ]
  },
  {
   "cell_type": "code",
   "execution_count": 63,
   "metadata": {},
   "outputs": [
    {
     "data": {
      "text/plain": [
       "(21.661735784563106, 21.757886182308816, 20.527617831339487)"
      ]
     },
     "execution_count": 63,
     "metadata": {},
     "output_type": "execute_result"
    }
   ],
   "source": [
    "limiting_mag_g, limiting_mag_r, limiting_mag_z"
   ]
  },
  {
   "cell_type": "markdown",
   "metadata": {},
   "source": [
    "(21.661735784563106, 21.757886182308816, 20.527617831339487)\n",
    "\n",
    "ax[1].axvline(x=22.05, # 5 sigma g\n",
    "ax[1].axvline(x=21.67 # 10 signma g"
   ]
  },
  {
   "cell_type": "code",
   "execution_count": null,
   "metadata": {},
   "outputs": [],
   "source": []
  }
 ],
 "metadata": {
  "kernelspec": {
   "display_name": "Python 2",
   "language": "python",
   "name": "python2"
  },
  "language_info": {
   "codemirror_mode": {
    "name": "ipython",
    "version": 2
   },
   "file_extension": ".py",
   "mimetype": "text/x-python",
   "name": "python",
   "nbconvert_exporter": "python",
   "pygments_lexer": "ipython2",
   "version": "2.7.15"
  }
 },
 "nbformat": 4,
 "nbformat_minor": 2
}
