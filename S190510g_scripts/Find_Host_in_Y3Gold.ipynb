{
 "cells": [
  {
   "cell_type": "markdown",
   "metadata": {},
   "source": [
    "# Query Antonella's and Y3's tables to find hosts for candidates"
   ]
  },
  {
   "cell_type": "code",
   "execution_count": 1,
   "metadata": {},
   "outputs": [],
   "source": [
    "import fitsio\n",
    "import easyaccess as ea\n",
    "import numpy as np\n",
    "from astropy.cosmology import FlatLambdaCDM\n",
    "from astropy import units as u\n",
    "from astropy.coordinates import SkyCoord\n",
    "import pandas as pd"
   ]
  },
  {
   "cell_type": "code",
   "execution_count": 2,
   "metadata": {},
   "outputs": [
    {
     "name": "stdout",
     "output_type": "stream",
     "text": [
      "Connecting to DB ** dessci ** ...\n",
      "*Important* Last time password change was \u001b[31m399\u001b[0m days ago\n",
      " Please change it using the \u001b[36mset_password\u001b[0m command to get rid of this message\n",
      "\n"
     ]
    }
   ],
   "source": [
    "con = ea.connect('dessci')"
   ]
  },
  {
   "cell_type": "markdown",
   "metadata": {},
   "source": [
    "Load ra, dec, snid, and gcn name for our candidates"
   ]
  },
  {
   "cell_type": "code",
   "execution_count": 3,
   "metadata": {},
   "outputs": [],
   "source": [
    "ra_cands = [91.526744,93.704382,92.851468,87.311398,89.100926,92.294458,92.468923,87.762354,91.936973,92.307977,87.146843]\n",
    "dec_cands = [-35.541616,-36.980727,-36.517324,-35.955853,-30.473987,-34.884684,-34.08657,-27.956502,-30.824747,-35.149829,-35.994357]\n",
    "snids = [479906,480122,479420,479601,479824,480031,480153,479680,479596,479812,480400]\n",
    "names = ['desgw-190510a','desgw-190510b','desgw-190510c','desgw-190510d','desgw-190510e','desgw-190510f','desgw-190510g','desgw-190510h','desgw-190510i','desgw-190510j','desgw-190510k']"
   ]
  },
  {
   "cell_type": "code",
   "execution_count": 4,
   "metadata": {},
   "outputs": [],
   "source": [
    "r = 0.028\n",
    "ra_min = [ra - r for ra in ra_cands]\n",
    "ra_max = [ra + r for ra in ra_cands]\n",
    "dec_min = [dec - r for dec in dec_cands]\n",
    "dec_max = [dec + r for dec in dec_cands]"
   ]
  },
  {
   "cell_type": "markdown",
   "metadata": {},
   "source": [
    "In [20]: radecrange = 0.01*u.deg\n",
    "\n",
    "In [21]: radecrange.to(u.arcsec)\n",
    "Out[21]: <Quantity 36. arcsec>\n",
    "\n",
    "In [22]: arcsec = radecrange.to(u.arcsec)\n",
    "\n",
    "In [23]: distance_kpc = (arcsec * d_A).to(u.kpc, u.dimensionless_angles())\n",
    "\n",
    "In [24]: print distance_kpc\n",
    "35.1898040359 kpc\n",
    "\n",
    "> 0.004 deg ~ 15kpc ~ 7DLR (Antonella's limit for matching)"
   ]
  },
  {
   "cell_type": "code",
   "execution_count": null,
   "metadata": {},
   "outputs": [],
   "source": [
    "## ra dec range = +/- 0.004 deg\n",
    "## no redshift limit\n",
    "## must match one of antonella's catalog objects\n",
    "\n",
    "queries_004 = {}\n",
    "for i in range(len(names)):\n",
    "    query = (\"SELECT a.COADD_OBJECT_ID, a.MAG_ABS_I, a.MAG_ABS_R, d.RA, d.DEC, a.SFR_BEST, d.DNF_ZMEAN_SOF, d.MAG_AUTO_G d \"\n",
    "             \"FROM Y3_GOLD_2_2 d, palmese.Y3A2_GALAXIES_STELLAR_MASS a \" \n",
    "             \"WHERE RA < \"+str(ra_max[i])+\"and RA > \"+str(ra_min[i])+\" \"\n",
    "             \"and DEC < \"+str(dec_max[i])+\" and DEC > \"+str(dec_min[i])+\" \"\n",
    "             #\"and d.DNF_ZMEAN_SOF < 0.3\"\n",
    "            \"and a.COADD_OBJECT_ID = d.COADD_OBJECT_ID;\"\n",
    "            )\n",
    "    df = con.query_to_pandas(query)\n",
    "    queries_004[names[i]] = df\n",
    "\n",
    "good = []\n",
    "for name, val in queries_004.iteritems():\n",
    "    if val.empty != True:\n",
    "        good.append(name)\n",
    "        print name\n",
    "        print val\n",
    "        print\n",
    "for name in names:\n",
    "    if name not in good:\n",
    "        print \"NO MATCH: \", name"
   ]
  },
  {
   "cell_type": "markdown",
   "metadata": {},
   "source": [
    "### check what in y3 gold and NOT antonella's cat"
   ]
  },
  {
   "cell_type": "code",
   "execution_count": 11,
   "metadata": {},
   "outputs": [],
   "source": [
    "queries_range004 = {}\n",
    "for i in range(len(names)):\n",
    "    query = (\"SELECT d.COADD_OBJECT_ID, d.RA, d.DEC, d.DNF_ZMEAN_SOF,d.MAG_AUTO_G FROM Y3_GOLD_2_2 d\" \n",
    "         \" WHERE  RA <  \"+str(ra_max[i])+\" and RA > \"+str(ra_min[i])+\" and DEC <  \"+str(dec_max[i])+\" \"\n",
    "         \"and DEC >  \"+str(dec_min[i])+\" \"\n",
    "            \"and d.DNF_ZMEAN_SOF < 0.2\")\n",
    "    df = con.query_to_pandas(query)\n",
    "    queries_range004[names[i]] = df\n",
    "    #print snids[i]\n",
    "    #print df"
   ]
  },
  {
   "cell_type": "code",
   "execution_count": null,
   "metadata": {},
   "outputs": [],
   "source": [
    "## ra dec range = +/- 0.001 deg\n",
    "## z < 0.2\n",
    "## looking in y3 gold only\n",
    "\n",
    "nomatch_001 = []\n",
    "for name, val in queries_range001.iteritems():\n",
    "    if val.empty != True:\n",
    "        print name\n",
    "        print val\n",
    "        print\n",
    "    else:\n",
    "        nomatch_001.append(name)\n",
    "print \"NO MATCH: \", nomatch_001"
   ]
  },
  {
   "cell_type": "code",
   "execution_count": null,
   "metadata": {},
   "outputs": [],
   "source": [
    "## ra dec range = +/- 0.004 deg\n",
    "## z < 0.2\n",
    "## looking in y3 gold only\n",
    "\n",
    "nomatch_004 = []\n",
    "for name, val in queries_range004.iteritems():\n",
    "    if val.empty != True:\n",
    "        print name\n",
    "        print val\n",
    "        print\n",
    "    else:\n",
    "        nomatch_004.append(name)\n",
    "print \"NO MATCH: \", nomatch_004"
   ]
  },
  {
   "cell_type": "code",
   "execution_count": 27,
   "metadata": {},
   "outputs": [
    {
     "name": "stdout",
     "output_type": "stream",
     "text": [
      "NO MATCH 004 AND 001 desgw-190510b\n",
      "NO MATCH 004 AND 001 desgw-190510c\n",
      "NO MATCH 004 AND 001 desgw-190510f\n",
      "NO MATCH 004 AND 001 desgw-190510g\n"
     ]
    }
   ],
   "source": [
    "for name in nomatch_001:\n",
    "    if name in nomatch_004:\n",
    "        print \"NO MATCH 004 AND 001\", name"
   ]
  },
  {
   "cell_type": "markdown",
   "metadata": {},
   "source": [
    "### Antonella limit (100kpc) + z < 0.2, y3 gold only"
   ]
  },
  {
   "cell_type": "code",
   "execution_count": 26,
   "metadata": {},
   "outputs": [],
   "source": [
    "queries_range100kpc = {}\n",
    "for i in range(len(names)):\n",
    "    #SELECT a.COADD_OBJECT_ID, a.MAG_ABS_I, a.MAG_ABS_R, d.RA, d.DEC, a.SFR_BEST, d.DNF_ZMEAN_SOF, d.MAG_AUTO_G d\n",
    "    query = (\"SELECT d.COADD_OBJECT_ID, d.RA, d.DEC, d.DNF_ZMEAN_SOF,d.MAG_AUTO_G FROM Y3_GOLD_2_2 d\" \n",
    "         \" WHERE  RA <  \"+str(ra_max[i])+\" and RA > \"+str(ra_min[i])+\" and DEC <  \"+str(dec_max[i])+\" \"\n",
    "         \"and DEC >  \"+str(dec_min[i])+\" \"\n",
    "            \"and d.DNF_ZMEAN_SOF < 0.2\")\n",
    "    df = con.query_to_pandas(query)\n",
    "    queries_range100kpc[names[i]] = df"
   ]
  },
  {
   "cell_type": "code",
   "execution_count": null,
   "metadata": {},
   "outputs": [],
   "source": [
    "nomatch_100kpc = []\n",
    "for name, val in queries_range100kpc.iteritems():\n",
    "    if val.empty != True:\n",
    "        print name\n",
    "        print val\n",
    "        print\n",
    "    else:\n",
    "        nomatch_100kpc.append(name)\n",
    "print \"NO MATCH: \", nomatch_100kpc"
   ]
  },
  {
   "cell_type": "code",
   "execution_count": 24,
   "metadata": {},
   "outputs": [
    {
     "name": "stdout",
     "output_type": "stream",
     "text": [
      "desgw-190510b\n",
      "    COADD_OBJECT_ID         RA        DEC  DNF_ZMEAN_SOF  MAG_AUTO_G\n",
      "0         459527646  93.574651 -37.020820       4.405808   23.925190\n",
      "1         459524462  93.574683 -36.962244       4.405808   23.181145\n",
      "2         459526210  93.574763 -36.994809       4.405808   23.743250\n",
      "3         459527890  93.574770 -37.025495       4.405808   21.948715\n",
      "4         459532264  93.574902 -37.109816       4.405808   23.166393\n",
      "5         459523301  93.574990 -36.941601       4.405808   23.333576\n",
      "6         459531149  93.575011 -37.088431       4.405808   22.295197\n",
      "7         459527781  93.575023 -37.022904       4.405808   23.736427\n",
      "8         459523302  93.575039 -36.942496       4.405808   21.560202\n",
      "9         459525758  93.575100 -36.985952       4.405808   23.391661\n",
      "10        459521691  93.575266 -36.912498       4.405808   23.625881\n",
      "11        459525646  93.575304 -36.983979       4.405808   21.778568\n",
      "12        459530614  93.575344 -37.077712       4.405808   22.869020\n",
      "13        459527241  93.575410 -37.016798       4.405808   16.132952\n",
      "14        459526509  93.575427 -37.000024       4.405808   23.475235\n",
      "15        459528052  93.575494 -37.027888       4.405808   22.655970\n",
      "16        459531871  93.575606 -37.102881       4.405808   23.763332\n",
      "17        459530625  93.575670 -37.077973       4.405808   23.270077\n",
      "18        459528566  93.575677 -37.038098       4.405808   24.760338\n",
      "19        459523619  93.575766 -36.947503       4.405808   21.172394\n",
      "20        459530575  93.575809 -37.076857       4.405808   22.973257\n",
      "21        459525735  93.575833 -36.987306       4.405808   18.496128\n",
      "22        459530081  93.576044 -37.068134       4.405808   24.498631\n",
      "23        459522428  93.576170 -36.925742       4.405808   20.168505\n",
      "24        459531513  93.576186 -37.096023       4.405808   25.226809\n",
      "25        459527604  93.576278 -37.019945       4.405808   23.056314\n",
      "26        459518705  93.576364 -36.856053       4.405808   25.802561\n",
      "27        459528616  93.576540 -37.039278       4.405808   22.967932\n",
      "28        459521443  93.576580 -36.907980       4.405808   25.086729\n",
      "29        459519012  93.576624 -36.861741       4.405808   21.421953\n",
      "30        459526389  93.576690 -36.999132       4.405808   20.869783\n",
      "31        459524007  93.576759 -36.955420       4.405808   20.908550\n",
      "32        459524975  93.577138 -36.971290       4.405808   21.716316\n",
      "33        459531139  93.577431 -37.088186       4.405808   22.026819\n",
      "34        459523479  93.577447 -36.945387       4.405808   20.914907\n",
      "35        459527783  93.577628 -37.022980       4.405808   22.174868\n",
      "36        459528595  93.577681 -37.038784       4.405808   23.335510\n",
      "37        459527520  93.577808 -37.018265       4.405808   24.307312\n",
      "38        459527817  93.577830 -37.023544       4.405808   23.870565\n",
      "39        459531468  93.577867 -37.094966       4.405808   25.009783\n",
      "40        459531800  93.578044 -37.101442       4.405808   24.267242\n",
      "41        459522964  93.578257 -36.935190       4.405808   23.721134\n",
      "42        459529548  93.578283 -37.058220       4.405808   99.000000\n"
     ]
    }
   ],
   "source": [
    "## NO HOST FOR CANDIDATE B???? \n",
    "\n",
    "r = 0.13\n",
    "ra_min = [ra - r for ra in ra_cands]\n",
    "ra_max = [ra + r for ra in ra_cands]\n",
    "dec_min = [dec - r for dec in dec_cands]\n",
    "dec_max = [dec + r for dec in dec_cands]\n",
    "\n",
    "i = 1\n",
    "print names[i]\n",
    "query = (\"SELECT d.COADD_OBJECT_ID, d.RA, d.DEC, d.DNF_ZMEAN_SOF,d.MAG_AUTO_G FROM Y3_GOLD_2_2 d\" \n",
    "         \" WHERE  RA <  \"+str(ra_max[i])+\" and RA > \"+str(ra_min[i])+\" and DEC <  \"+str(dec_max[i])+\" \"\n",
    "         \"and DEC >  \"+str(dec_min[i])+\" \")\n",
    "          #  \"and d.DNF_ZMEAN_SOF < 0.2\")\n",
    "df = con.query_to_pandas(query)\n",
    "#queries_range100kpc[names[i]] = df\n",
    "print df"
   ]
  },
  {
   "cell_type": "markdown",
   "metadata": {},
   "source": [
    "## All ranges [0.001, 0.004, 0.02] + z< 0.2, y3 gold only"
   ]
  },
  {
   "cell_type": "code",
   "execution_count": 66,
   "metadata": {},
   "outputs": [],
   "source": [
    "#dists = [0.001,0.004, 0.028]\n",
    "dists = [0.001,0.004, 0.008]\n",
    "closest_host = {}\n",
    "done = []\n",
    "for r in dists:\n",
    "    ra_min = [ra - r for ra in ra_cands]\n",
    "    ra_max = [ra + r for ra in ra_cands]\n",
    "    dec_min = [dec - r for dec in dec_cands]\n",
    "    dec_max = [dec + r for dec in dec_cands]\n",
    "    for i in range(len(names)):\n",
    "        if names[i] in done:\n",
    "            continue\n",
    "        else:\n",
    "            query = (\"SELECT d.COADD_OBJECT_ID, d.RA, d.DEC, d.DNF_ZMEAN_SOF,d.MAG_AUTO_G FROM Y3_GOLD_2_2 d\" \n",
    "                     \" WHERE  RA <  \"+str(ra_max[i])+\" and RA > \"+str(ra_min[i])+\" and DEC <  \"+str(dec_max[i])+\" \"\n",
    "                     \"and DEC >  \"+str(dec_min[i])+\" \"\n",
    "                      \"and d.DNF_ZMEAN_SOF < 0.2\")\n",
    "            df = con.query_to_pandas(query)\n",
    "        if df.empty != True:\n",
    "            closest_host[names[i]] = [r, df]\n",
    "            done.append(names[i])"
   ]
  },
  {
   "cell_type": "code",
   "execution_count": 68,
   "metadata": {},
   "outputs": [
    {
     "name": "stdout",
     "output_type": "stream",
     "text": [
      "desgw-190510a\n",
      "[0.004,    COADD_OBJECT_ID         RA        DEC  DNF_ZMEAN_SOF  MAG_AUTO_G\n",
      "0        456401049  91.524818 -35.542911       0.176671   20.416767\n",
      "1        456400268  91.526228 -35.542993       0.106310   17.170069]\n",
      "\n",
      "desgw-190510d\n",
      "[0.001,    COADD_OBJECT_ID         RA        DEC  DNF_ZMEAN_SOF  MAG_AUTO_G\n",
      "0        453230153  87.311493 -35.956445       0.129511   20.507114]\n",
      "\n",
      "desgw-190510e\n",
      "[0.004,    COADD_OBJECT_ID         RA        DEC  DNF_ZMEAN_SOF  MAG_AUTO_G\n",
      "0        448690201  89.101725 -30.471644       0.163038   19.453684]\n",
      "\n",
      "desgw-190510f\n",
      "[0.008,    COADD_OBJECT_ID         RA        DEC  DNF_ZMEAN_SOF  MAG_AUTO_G\n",
      "0        457383340  92.301126 -34.880852        0.16756   18.732315]\n",
      "\n",
      "desgw-190510h\n",
      "[0.004,    COADD_OBJECT_ID         RA        DEC  DNF_ZMEAN_SOF  MAG_AUTO_G\n",
      "0        454557474  87.761674 -27.955404       0.048781   16.823931]\n",
      "\n",
      "desgw-190510i\n",
      "[0.001,    COADD_OBJECT_ID         RA        DEC  DNF_ZMEAN_SOF  MAG_AUTO_G\n",
      "0        455788150  91.937468 -30.824642       0.193147   19.465042]\n",
      "\n",
      "desgw-190510j\n",
      "[0.001,    COADD_OBJECT_ID         RA        DEC  DNF_ZMEAN_SOF  MAG_AUTO_G\n",
      "0        457398118  92.308412 -35.149747       0.134002    20.03867]\n",
      "\n",
      "desgw-190510k\n",
      "[0.001,    COADD_OBJECT_ID         RA        DEC  DNF_ZMEAN_SOF  MAG_AUTO_G\n",
      "0        453232190  87.147309 -35.994162         0.0665   17.618853]\n",
      "\n",
      "desgw-190510b\n",
      "desgw-190510c\n",
      "desgw-190510g\n"
     ]
    }
   ],
   "source": [
    "#print done, len(done)\n",
    "for key, val in closest_host.iteritems():\n",
    "    print key\n",
    "    print val\n",
    "    print\n",
    "    \n",
    "for i in range(len(names)):\n",
    "    if names[i] not in done:\n",
    "        print names[i]\n",
    "#a, d, k all have matches on NED"
   ]
  },
  {
   "cell_type": "markdown",
   "metadata": {},
   "source": [
    "## 30kpc range, z<0.2 y3gold only"
   ]
  },
  {
   "cell_type": "code",
   "execution_count": 12,
   "metadata": {},
   "outputs": [],
   "source": [
    "#dists = [0.001,0.004, 0.028]\n",
    "dists = [0.0085]\n",
    "has_host30kpc = {}\n",
    "done = []\n",
    "for r in dists:\n",
    "    ra_min = [ra - r for ra in ra_cands]\n",
    "    ra_max = [ra + r for ra in ra_cands]\n",
    "    dec_min = [dec - r for dec in dec_cands]\n",
    "    dec_max = [dec + r for dec in dec_cands]\n",
    "    for i in range(len(names)):\n",
    "        if names[i] in done:\n",
    "            continue\n",
    "        else:\n",
    "            query = (\"SELECT d.COADD_OBJECT_ID, d.RA, d.DEC, d.DNF_ZMEAN_SOF,d.MAG_AUTO_G FROM Y3_GOLD_2_2 d\" \n",
    "                     \" WHERE  RA <  \"+str(ra_max[i])+\" and RA > \"+str(ra_min[i])+\" and DEC <  \"+str(dec_max[i])+\" \"\n",
    "                     \"and DEC >  \"+str(dec_min[i])+\" \"\n",
    "                      \"and d.DNF_ZMEAN_SOF < 0.2\")\n",
    "            df = con.query_to_pandas(query)\n",
    "        if df.empty != True:\n",
    "            has_host30kpc[names[i]] = [r, df]\n",
    "            done.append(names[i])"
   ]
  },
  {
   "cell_type": "code",
   "execution_count": 7,
   "metadata": {},
   "outputs": [
    {
     "name": "stdout",
     "output_type": "stream",
     "text": [
      "desgw-190510a\n",
      "[0.0085,    COADD_OBJECT_ID         RA        DEC  DNF_ZMEAN_SOF  MAG_AUTO_G\n",
      "0        456401049  91.524818 -35.542911       0.176671   20.416767\n",
      "1        456400268  91.526228 -35.542993       0.106310   17.170069\n",
      "2        456400658  91.531056 -35.538668       0.110751   20.873541]\n",
      "desgw-190510d\n",
      "[0.0085,    COADD_OBJECT_ID         RA        DEC  DNF_ZMEAN_SOF  MAG_AUTO_G\n",
      "0        453230153  87.311493 -35.956445       0.129511   20.507114]\n",
      "desgw-190510e\n",
      "[0.0085,    COADD_OBJECT_ID         RA        DEC  DNF_ZMEAN_SOF  MAG_AUTO_G\n",
      "0        448690201  89.101725 -30.471644       0.163038   19.453684\n",
      "1        448690221  89.105216 -30.471248       0.172430   19.878315]\n",
      "desgw-190510f\n",
      "[0.0085,    COADD_OBJECT_ID         RA        DEC  DNF_ZMEAN_SOF  MAG_AUTO_G\n",
      "0        457383340  92.301126 -34.880852        0.16756   18.732315]\n",
      "desgw-190510h\n",
      "[0.0085,    COADD_OBJECT_ID         RA        DEC  DNF_ZMEAN_SOF  MAG_AUTO_G\n",
      "0        454557474  87.761674 -27.955404       0.048781   16.823931]\n",
      "desgw-190510i\n",
      "[0.0085,    COADD_OBJECT_ID         RA        DEC  DNF_ZMEAN_SOF  MAG_AUTO_G\n",
      "0        455787889  91.929878 -30.816400       0.117780   21.628811\n",
      "1        455788343  91.930427 -30.826724       0.136437   21.702044\n",
      "2        455788382  91.932946 -30.829140       0.077474   19.763691\n",
      "3        455788145  91.936663 -30.822126       0.162260   21.284563\n",
      "4        455788150  91.937468 -30.824642       0.193147   19.465042\n",
      "5        455788087  91.941592 -30.822005       0.179862   20.354546\n",
      "6        455787940  91.944330 -30.817496       0.177386   22.482121]\n",
      "desgw-190510j\n",
      "[0.0085,    COADD_OBJECT_ID         RA        DEC  DNF_ZMEAN_SOF  MAG_AUTO_G\n",
      "0        457397759  92.300971 -35.142171       0.040789   19.426939\n",
      "1        457398118  92.308412 -35.149747       0.134002   20.038670]\n",
      "desgw-190510k\n",
      "[0.0085,    COADD_OBJECT_ID         RA        DEC  DNF_ZMEAN_SOF  MAG_AUTO_G\n",
      "0        453232190  87.147309 -35.994162         0.0665   17.618853]\n",
      "8\n",
      "\n",
      "desgw-190510b\n",
      "desgw-190510c\n",
      "desgw-190510g\n"
     ]
    }
   ],
   "source": [
    "for key, val in has_host30kpc.iteritems():\n",
    "    print key\n",
    "    print val\n",
    "print len(done)\n",
    "print \n",
    "for i in range(len(names)):\n",
    "    if names[i] not in done:\n",
    "        print names[i]"
   ]
  },
  {
   "cell_type": "markdown",
   "metadata": {},
   "source": [
    "--> cands a, d, k have found hosts from NED"
   ]
  },
  {
   "cell_type": "markdown",
   "metadata": {},
   "source": [
    "### Remove z limit to find cands c and g"
   ]
  },
  {
   "cell_type": "code",
   "execution_count": 5,
   "metadata": {},
   "outputs": [
    {
     "name": "stdout",
     "output_type": "stream",
     "text": [
      "desgw-190510c\n",
      "    COADD_OBJECT_ID         RA        DEC  DNF_ZMEAN_SOF  MAG_AUTO_G\n",
      "0         459792153  92.844051 -36.511630       0.803930   26.492878\n",
      "1         459792337  92.845133 -36.515647       0.700878   24.329599\n",
      "2         459792654  92.847015 -36.523329       0.604040   22.062405\n",
      "3         459792143  92.847693 -36.511273       0.429173   23.612043\n",
      "4         459792717  92.851442 -36.524333       0.431779   23.026588\n",
      "5         459792354  92.851901 -36.517915       0.201937   20.480238\n",
      "6         459792738  92.854899 -36.524663       0.489235   23.496889\n",
      "7         459792442  92.855610 -36.518210       1.265313   24.201986\n",
      "8         459792386  92.856915 -36.516736       0.723458   23.053450\n",
      "9         459792333  92.857271 -36.515578       0.388863   21.819597\n",
      "10        459792683  92.858060 -36.523785       0.277683   22.421602\n",
      "11        459792331  92.858633 -36.516250       0.485026   21.338812\n",
      "12        459792284  92.859650 -36.514546       0.636434   23.913944\n",
      "13        459792585  92.859943 -36.521823       0.881079   24.713266\n",
      "{0: [<Angle 0.00824356 deg>], 1: [<Angle 0.00536043 deg>], 2: [<Angle 0.00699047 deg>], 3: [<Angle 0.00676903 deg>], 4: [<Angle 0.00700903 deg>], 5: [<Angle 0.00068584 deg>], 6: [<Angle 0.00783987 deg>], 7: [<Angle 0.0034447 deg>], 8: [<Angle 0.00441696 deg>], 9: [<Angle 0.00497991 deg>], 10: [<Angle 0.00835519 deg>], 11: [<Angle 0.00585769 deg>], 12: [<Angle 0.00713852 deg>], 13: [<Angle 0.00816273 deg>]}\n"
     ]
    }
   ],
   "source": [
    "## remove z limit to see if the host is actually here\n",
    "dists = [0.0085]\n",
    "for r in dists:\n",
    "    ra_min = [ra - r for ra in ra_cands]\n",
    "    ra_max = [ra + r for ra in ra_cands]\n",
    "    dec_min = [dec - r for dec in dec_cands]\n",
    "    dec_max = [dec + r for dec in dec_cands]\n",
    "    i = 2\n",
    "    print names[i]\n",
    "    query = (\"SELECT d.COADD_OBJECT_ID, d.RA, d.DEC, d.DNF_ZMEAN_SOF,d.MAG_AUTO_G FROM Y3_GOLD_2_2 d\" \n",
    "                     \" WHERE  RA <  \"+str(ra_max[i])+\" and RA > \"+str(ra_min[i])+\" and DEC <  \"+str(dec_max[i])+\" \"\n",
    "                     \"and DEC >  \"+str(dec_min[i])+\" \")\n",
    "                     # \"and d.DNF_ZMEAN_SOF < 0.2\")\n",
    "    df = con.query_to_pandas(query)\n",
    "print df\n",
    "seps = {}\n",
    "for index, row in df.iterrows():\n",
    "    seps.setdefault(index,[])\n",
    "    host = SkyCoord(row['RA'], row['DEC'], unit='degree')\n",
    "    cand = SkyCoord(ra_cands[i], dec_cands[i], unit='degree')\n",
    "    seps[index].append(cand.separation(host))\n",
    "print seps"
   ]
  },
  {
   "cell_type": "code",
   "execution_count": 12,
   "metadata": {},
   "outputs": [
    {
     "name": "stdout",
     "output_type": "stream",
     "text": [
      "desgw-190510g 92.468923 -34.08657\n",
      "   COADD_OBJECT_ID         RA        DEC  DNF_ZMEAN_SOF  MAG_AUTO_G\n",
      "0        455492483  92.461412 -34.094592       0.378409   23.130615\n",
      "1        455492484  92.468660 -34.094640       0.574666   22.976484\n",
      "2        455492504  92.473743 -34.094924       0.866220   23.661659\n",
      "{0: [<Angle 0.01015106 deg>], 1: [<Angle 0.00807294 deg>], 2: [<Angle 0.00925867 deg>]}\n"
     ]
    }
   ],
   "source": [
    "dists = [0.0085]\n",
    "for r in dists:\n",
    "    ra_min = [ra - r for ra in ra_cands]\n",
    "    ra_max = [ra + r for ra in ra_cands]\n",
    "    dec_min = [dec - r for dec in dec_cands]\n",
    "    dec_max = [dec + r for dec in dec_cands]\n",
    "    i = 6\n",
    "    print names[i], ra_cands[i], dec_cands[i]\n",
    "    query = (\"SELECT d.COADD_OBJECT_ID, d.RA, d.DEC, d.DNF_ZMEAN_SOF,d.MAG_AUTO_G FROM Y3_GOLD_2_2 d\" \n",
    "                     \" WHERE  RA <  \"+str(ra_max[i])+\" and RA > \"+str(ra_min[i])+\" and DEC <  \"+str(dec_max[i])+\" \"\n",
    "                     \"and DEC >  \"+str(dec_min[i])+\" \"\n",
    "                      \"and d.DNF_ZMEAN_SOF < 1\")\n",
    "    df = con.query_to_pandas(query)\n",
    "print df\n",
    "seps = {}\n",
    "for index, row in df.iterrows():\n",
    "    seps.setdefault(index,[])\n",
    "    host = SkyCoord(row['RA'], row['DEC'], unit='degree')\n",
    "    cand = SkyCoord(ra_cands[i], dec_cands[i], unit='degree')\n",
    "    seps[index].append(cand.separation(host))\n",
    "print seps"
   ]
  },
  {
   "cell_type": "markdown",
   "metadata": {},
   "source": [
    "## Calc seperation between y3gold hosts and cands"
   ]
  },
  {
   "cell_type": "code",
   "execution_count": 30,
   "metadata": {},
   "outputs": [],
   "source": [
    "candkeys = []\n",
    "candra = []\n",
    "canddec = []\n",
    "for key in has_host30kpc.iterkeys():\n",
    "    if key in names:\n",
    "        ind = names.index(key)\n",
    "        candkeys.append(names[ind])\n",
    "        candra.append(ra_cands[ind])\n",
    "        canddec.append(dec_cands[ind])"
   ]
  },
  {
   "cell_type": "code",
   "execution_count": 34,
   "metadata": {},
   "outputs": [],
   "source": [
    "seps = {}\n",
    "for key, cra, cdec, val in zip(candkeys, candra, canddec, has_host30kpc.itervalues()):\n",
    "    seps.setdefault(key,[])\n",
    "    df = val[1]\n",
    "    hra = df['RA'].values\n",
    "    hdec = df['DEC'].values\n",
    "    for hostr, hostd in zip(hra,hdec):\n",
    "        host = SkyCoord(hostr, hostd, unit='degree')\n",
    "        cand = SkyCoord(cra, cdec, unit='degree')\n",
    "        #seps[key] = cand.separation(host)\n",
    "        seps[key].append(cand.separation(host))"
   ]
  },
  {
   "cell_type": "code",
   "execution_count": 35,
   "metadata": {},
   "outputs": [
    {
     "data": {
      "text/plain": [
       "{'desgw-190510a': [<Angle 0.00203298 deg>,\n",
       "  <Angle 0.00143959 deg>,\n",
       "  <Angle 0.00458277 deg>],\n",
       " 'desgw-190510d': [<Angle 0.00059697 deg>],\n",
       " 'desgw-190510e': [<Angle 0.0024421 deg>, <Angle 0.00460142 deg>],\n",
       " 'desgw-190510f': [<Angle 0.00667864 deg>],\n",
       " 'desgw-190510h': [<Angle 0.00125155 deg>],\n",
       " 'desgw-190510i': [<Angle 0.01033428 deg>,\n",
       "  <Angle 0.00595877 deg>,\n",
       "  <Angle 0.00559076 deg>,\n",
       "  <Angle 0.00263448 deg>,\n",
       "  <Angle 0.00043785 deg>,\n",
       "  <Angle 0.00482206 deg>,\n",
       "  <Angle 0.00961737 deg>],\n",
       " 'desgw-190510j': [<Angle 0.00956364 deg>, <Angle 0.00036501 deg>],\n",
       " 'desgw-190510k': [<Angle 0.00042447 deg>]}"
      ]
     },
     "execution_count": 35,
     "metadata": {},
     "output_type": "execute_result"
    }
   ],
   "source": [
    "seps"
   ]
  },
  {
   "cell_type": "markdown",
   "metadata": {},
   "source": [
    "## dist 0.0085 (30kpc) + z< 0.2 + match with antonella catalog"
   ]
  },
  {
   "cell_type": "code",
   "execution_count": 12,
   "metadata": {},
   "outputs": [
    {
     "name": "stdout",
     "output_type": "stream",
     "text": [
      "desgw-190510a 0.00458276732965\n",
      "   COADD_OBJECT_ID  MAG_ABS_I  MAG_ABS_R         RA        DEC  SFR_BEST  DNF_ZMEAN_SOF  DNF_ZSIGMA_SOF  MASS_BEST          D\n",
      "0        456400268 -23.042999    -22.712  91.526228 -35.542993  -0.18967        0.10631        0.003861    11.2057  17.170069\n",
      "\n",
      "desgw-190510d 0.000596973623139\n",
      "   COADD_OBJECT_ID  MAG_ABS_I  MAG_ABS_R         RA        DEC  SFR_BEST  DNF_ZMEAN_SOF  DNF_ZSIGMA_SOF  MASS_BEST          D\n",
      "0        453230153     -19.33    -19.177  87.311493 -35.956445  -0.50188       0.129511        0.021426    9.43456  20.507114\n",
      "\n",
      "desgw-190510e 0.00244210274587\n",
      "   COADD_OBJECT_ID  MAG_ABS_I  MAG_ABS_R         RA        DEC  SFR_BEST  DNF_ZMEAN_SOF  DNF_ZSIGMA_SOF  MASS_BEST          D\n",
      "0        448690201    -21.796    -21.448  89.101725 -30.471644 -0.389982       0.163038        0.005304    10.7433  19.453684\n",
      "\n",
      "desgw-190510f 0.00667864112402\n",
      "   COADD_OBJECT_ID  MAG_ABS_I  MAG_ABS_R         RA        DEC  SFR_BEST  DNF_ZMEAN_SOF  DNF_ZSIGMA_SOF  MASS_BEST          D\n",
      "0        457383340 -22.684999    -22.326  92.301126 -34.880852 -0.155599        0.16756        0.003371    11.1388  18.732315\n",
      "\n",
      "desgw-190510h 0.00125155261581\n",
      "   COADD_OBJECT_ID  MAG_ABS_I  MAG_ABS_R         RA        DEC  SFR_BEST  DNF_ZMEAN_SOF  DNF_ZSIGMA_SOF  MASS_BEST          D\n",
      "0        454557474    -20.917    -20.698  87.761674 -27.955404  -1.38806       0.048781        0.002187    9.88354  16.823931\n",
      "\n",
      "desgw-190510i 0.00961737268544\n",
      "   COADD_OBJECT_ID  MAG_ABS_I  MAG_ABS_R         RA        DEC  SFR_BEST  DNF_ZMEAN_SOF  DNF_ZSIGMA_SOF  MASS_BEST          D\n",
      "3        455788150    -21.539    -21.388  91.937468 -30.824642  0.386702       0.193147        0.019305     10.434  19.465042\n",
      "\n",
      "desgw-190510j 0.000365007649653\n",
      "   COADD_OBJECT_ID  MAG_ABS_I  MAG_ABS_R         RA        DEC  SFR_BEST  DNF_ZMEAN_SOF  DNF_ZSIGMA_SOF  MASS_BEST         D\n",
      "0        457398118    -19.927    -19.737  92.308412 -35.149747 -0.460924       0.134002        0.014363    9.67552  20.03867\n",
      "\n",
      "desgw-190510k 0.000424471599365\n",
      "   COADD_OBJECT_ID  MAG_ABS_I  MAG_ABS_R         RA        DEC  SFR_BEST  DNF_ZMEAN_SOF  DNF_ZSIGMA_SOF  MASS_BEST          D\n",
      "0        453232190 -20.627001 -20.431999  87.147309 -35.994162 -0.271698         0.0665        0.001556    9.93795  17.618853\n",
      "\n"
     ]
    }
   ],
   "source": [
    "#dists = [0.001,0.004, 0.028]\n",
    "dists = [0.0085]\n",
    "has_host30kpcAP = {}\n",
    "done = []\n",
    "for r in dists:\n",
    "    ra_min = [ra - r for ra in ra_cands]\n",
    "    ra_max = [ra + r for ra in ra_cands]\n",
    "    dec_min = [dec - r for dec in dec_cands]\n",
    "    dec_max = [dec + r for dec in dec_cands]\n",
    "    for i in range(len(names)):\n",
    "        if names[i] in done:\n",
    "            continue\n",
    "        else:\n",
    "#             query = (\"SELECT d.COADD_OBJECT_ID, d.RA, d.DEC, d.DNF_ZMEAN_SOF,d.MAG_AUTO_G FROM Y3_GOLD_2_2 d\" \n",
    "#                      \" WHERE  RA <  \"+str(ra_max[i])+\" and RA > \"+str(ra_min[i])+\" and DEC <  \"+str(dec_max[i])+\" \"\n",
    "#                      \"and DEC >  \"+str(dec_min[i])+\" \"\n",
    "#                       \"and d.DNF_ZMEAN_SOF < 0.2\")\n",
    "            query = (\"SELECT a.COADD_OBJECT_ID, a.MAG_ABS_I, a.MAG_ABS_R, d.RA, d.DEC, a.SFR_BEST, d.DNF_ZMEAN_SOF, d.DNF_ZSIGMA_SOF, a.MASS_BEST, d.MAG_AUTO_G d \"\n",
    "             \"FROM Y3_GOLD_2_2 d, palmese.Y3A2_GALAXIES_STELLAR_MASS a \" \n",
    "             \"WHERE RA < \"+str(ra_max[i])+\"and RA > \"+str(ra_min[i])+\" \"\n",
    "             \"and DEC < \"+str(dec_max[i])+\" and DEC > \"+str(dec_min[i])+\" \"\n",
    "             \"and d.DNF_ZMEAN_SOF < 0.2\"\n",
    "            \"and a.COADD_OBJECT_ID = d.COADD_OBJECT_ID;\"\n",
    "            )\n",
    "            df = con.query_to_pandas(query)\n",
    "    \n",
    "            if df.empty != True:\n",
    "                seps = {}\n",
    "                for index, row in df.iterrows():\n",
    "                    seps.setdefault(index,[])\n",
    "                    host = SkyCoord(row['RA'], row['DEC'], unit='degree')\n",
    "                    cand = SkyCoord(ra_cands[i], dec_cands[i], unit='degree')\n",
    "                    s = cand.separation(host)\n",
    "                    seps[index].append(s)\n",
    "\n",
    "                minindex = [min(seps, key=seps.get)]\n",
    "                df = df[df.index.isin(minindex)]\n",
    "                #c = SkyCoord(ra=df['RA'].values*u.degree, dec=df['DEC'].values*u.degree, unit=(u.hourangle))\n",
    "                print names[i], s.deg\n",
    "                print df\n",
    "                df.to_csv(\"190510_hosts.csv\", mode='a', header=False)\n",
    "                print \n",
    "        \n",
    "        #if df.empty != True:\n",
    "                has_host30kpcAP[names[i]] = [s, df]\n",
    "                done.append(names[i])\n",
    "                \n"
   ]
  },
  {
   "cell_type": "code",
   "execution_count": 63,
   "metadata": {},
   "outputs": [
    {
     "name": "stdout",
     "output_type": "stream",
     "text": [
      "desgw-190510a 0.00458276732965 32.1140385177 kpc\n",
      "   COADD_OBJECT_ID  MAG_ABS_I  MAG_ABS_R         RA        DEC  SFR_BEST  DNF_ZMEAN_SOF          D\n",
      "0        456400268 -23.042999    -22.712  91.526228 -35.542993  -0.18967        0.10631  17.170069\n",
      "\n",
      "\n",
      "desgw-190510d 0.000596973623139 4.96384236215 kpc\n",
      "   COADD_OBJECT_ID  MAG_ABS_I  MAG_ABS_R         RA        DEC  SFR_BEST  DNF_ZMEAN_SOF          D\n",
      "0        453230153     -19.33    -19.177  87.311493 -35.956445  -0.50188       0.129511  20.507114\n",
      "\n",
      "\n",
      "desgw-190510e 0.00244210274587 24.6238343423 kpc\n",
      "   COADD_OBJECT_ID  MAG_ABS_I  MAG_ABS_R         RA        DEC  SFR_BEST  DNF_ZMEAN_SOF          D\n",
      "0        448690201    -21.796    -21.448  89.101725 -30.471644 -0.389982       0.163038  19.453684\n",
      "\n",
      "\n",
      "desgw-190510f 0.00667864112402 68.8639700322 kpc\n",
      "   COADD_OBJECT_ID  MAG_ABS_I  MAG_ABS_R         RA        DEC  SFR_BEST  DNF_ZMEAN_SOF          D\n",
      "0        457383340 -22.684999    -22.326  92.301126 -34.880852 -0.155599        0.16756  18.732315\n",
      "\n",
      "\n",
      "desgw-190510h 0.00125155261581 4.30299964118 kpc\n",
      "   COADD_OBJECT_ID  MAG_ABS_I  MAG_ABS_R         RA        DEC  SFR_BEST  DNF_ZMEAN_SOF          D\n",
      "0        454557474    -20.917    -20.698  87.761674 -27.955404  -1.38806       0.048781  16.823931\n",
      "\n",
      "\n",
      "desgw-190510i 0.00482205821681 55.7301717199 kpc\n",
      "   COADD_OBJECT_ID  MAG_ABS_I  MAG_ABS_R         RA        DEC  SFR_BEST  DNF_ZMEAN_SOF          D\n",
      "4        455788150    -21.539    -21.388  91.937468 -30.824642  0.386702       0.193147  19.465042\n",
      "\n",
      "\n",
      "desgw-190510j 0.000365007649653 3.12445661676 kpc\n",
      "   COADD_OBJECT_ID  MAG_ABS_I  MAG_ABS_R         RA        DEC  SFR_BEST  DNF_ZMEAN_SOF         D\n",
      "0        457398118    -19.927    -19.737  92.308412 -35.149747 -0.460924       0.134002  20.03867\n",
      "\n",
      "\n",
      "desgw-190510k 0.000424471599365 1.948389437 kpc\n",
      "   COADD_OBJECT_ID  MAG_ABS_I  MAG_ABS_R         RA        DEC  SFR_BEST  DNF_ZMEAN_SOF          D\n",
      "0        453232190 -20.627001 -20.431999  87.147309 -35.994162 -0.271698         0.0665  17.618853\n",
      "\n",
      "\n"
     ]
    }
   ],
   "source": [
    "# for key, val in has_host30kpcAP.iteritems():\n",
    "#     print key\n",
    "#     print val\n",
    "# print len(done)\n",
    "# print \n",
    "# for i in range(len(names)):\n",
    "#     if names[i] not in done:\n",
    "#         print names[i]\n",
    "        \n",
    "for key, val in has_host30kpcAP.iteritems():\n",
    "    hz = has_host30kpcAP[key][1]['DNF_ZMEAN_SOF'].values[0]\n",
    "    cosmo = FlatLambdaCDM(H0=70, Om0=0.3)\n",
    "    ac = has_host30kpcAP[key][0].to(u.arcsec)\n",
    "    \n",
    "    d_A = cosmo.angular_diameter_distance(z=hz)\n",
    "    distance_kpc = (ac * d_A).to(u.kpc, u.dimensionless_angles())\n",
    "\n",
    "    print key, val[0].deg, distance_kpc\n",
    "    print val[1]\n",
    "    print \n",
    "    print"
   ]
  },
  {
   "cell_type": "markdown",
   "metadata": {},
   "source": [
    "## check antonella + y3 list with just y3 list"
   ]
  },
  {
   "cell_type": "code",
   "execution_count": 29,
   "metadata": {},
   "outputs": [
    {
     "name": "stdout",
     "output_type": "stream",
     "text": [
      "desgw-190510a\n",
      "no ap [456401049 456400268 456400658]\n",
      "with ap [456400268 456400658]\n",
      "\n",
      "desgw-190510b\n",
      "no ap n/a\n",
      "desgw-190510c\n",
      "no ap n/a\n",
      "desgw-190510d\n",
      "no ap [453230153]\n",
      "with ap [453230153]\n",
      "\n",
      "desgw-190510e\n",
      "no ap [448690201 448690221]\n",
      "with ap [448690201]\n",
      "\n",
      "desgw-190510f\n",
      "no ap [457383340]\n",
      "with ap [457383340]\n",
      "\n",
      "desgw-190510g\n",
      "no ap n/a\n",
      "desgw-190510h\n",
      "no ap [454557474]\n",
      "with ap [454557474]\n",
      "\n",
      "desgw-190510i\n",
      "no ap [455787889 455788343 455788382 455788145 455788150 455788087 455787940]\n",
      "with ap [455787889 455788343 455788382 455788150 455788087 455787940]\n",
      "\n",
      "desgw-190510j\n",
      "no ap [457397759 457398118]\n",
      "with ap [457398118]\n",
      "\n",
      "desgw-190510k\n",
      "no ap [453232190]\n",
      "with ap [453232190]\n",
      "\n"
     ]
    }
   ],
   "source": [
    "#has_host30kpc['desgw-190510k'][1]['COADD_OBJECT_ID'].values\n",
    "for name in names:\n",
    "    try:\n",
    "        #if has_host30kpc[name][1]['COADD_OBJECT_ID'].values.any() != has_host30kpcAP[name][1]['COADD_OBJECT_ID'].values.any():\n",
    "        print name\n",
    "        print \"no ap\", has_host30kpc[name][1]['COADD_OBJECT_ID'].values\n",
    "        print \"with ap\", has_host30kpcAP[name][1]['COADD_OBJECT_ID'].values\n",
    "        print\n",
    "    except KeyError:\n",
    "        print \"n/a\""
   ]
  },
  {
   "cell_type": "code",
   "execution_count": 46,
   "metadata": {},
   "outputs": [
    {
     "name": "stdout",
     "output_type": "stream",
     "text": [
      "[[455787889, <Angle 0.01033428 deg>], [455788343, <Angle 0.00595877 deg>], [455788382, <Angle 0.00559076 deg>], [455788150, <Angle 0.00043785 deg>], [455788087, <Angle 0.00482206 deg>], [455787940, <Angle 0.00961737 deg>]]\n"
     ]
    }
   ],
   "source": [
    "hostra = has_host30kpcAP['desgw-190510i'][1]['RA'].values\n",
    "hostdec = has_host30kpcAP['desgw-190510i'][1]['DEC'].values\n",
    "coaddid = has_host30kpcAP['desgw-190510i'][1]['COADD_OBJECT_ID'].values\n",
    "candra, canddec = 91.936973, -30.824747\n",
    "\n",
    "seps = []\n",
    "for hra, hdec, cid in zip(hostra, hostdec, coaddid):\n",
    "    host = SkyCoord(hra, hdec, unit='degree')\n",
    "    cand = SkyCoord(candra, canddec, unit='degree')\n",
    "    seps.append([cid, cand.separation(host)])\n",
    "print seps"
   ]
  },
  {
   "cell_type": "code",
   "execution_count": 16,
   "metadata": {},
   "outputs": [
    {
     "name": "stdout",
     "output_type": "stream",
     "text": [
      "desgw-190510b 93.704382 -36.980727\n",
      "Empty DataFrame\n",
      "Columns: [COADD_OBJECT_ID, RA, DEC, DNF_ZMEAN_SOF, MAG_AUTO_G]\n",
      "Index: []\n",
      "{}\n"
     ]
    }
   ],
   "source": [
    "dists = [0.0085]\n",
    "for r in dists:\n",
    "    ra_min = [ra - r for ra in ra_cands]\n",
    "    ra_max = [ra + r for ra in ra_cands]\n",
    "    dec_min = [dec - r for dec in dec_cands]\n",
    "    dec_max = [dec + r for dec in dec_cands]\n",
    "    i = 1\n",
    "    print names[i], ra_cands[i], dec_cands[i]\n",
    "    query = (\"SELECT d.COADD_OBJECT_ID, d.RA, d.DEC, d.DNF_ZMEAN_SOF,d.MAG_AUTO_G FROM Y3_GOLD_2_2 d\" \n",
    "                     \" WHERE  RA <  \"+str(ra_max[i])+\" and RA > \"+str(ra_min[i])+\" and DEC <  \"+str(dec_max[i])+\" \"\n",
    "                     \"and DEC >  \"+str(dec_min[i])+\" \"\n",
    "                      \"and d.DNF_ZMEAN_SOF < 1\")\n",
    "    df = con.query_to_pandas(query)\n",
    "print df\n",
    "seps = {}\n",
    "for index, row in df.iterrows():\n",
    "    seps.setdefault(index,[])\n",
    "    host = SkyCoord(row['RA'], row['DEC'], unit='degree')\n",
    "    cand = SkyCoord(ra_cands[i], dec_cands[i], unit='degree')\n",
    "    seps[index].append(cand.separation(host))\n",
    "print seps"
   ]
  },
  {
   "cell_type": "markdown",
   "metadata": {},
   "source": [
    "## create DES name for host \n",
    "http://cdsweb.u-strasbg.fr/Dic/iau-spec.html#S3.\n",
    "\n",
    "\"Coordinates shall be specified as LLL.ll+BB.bb or LLL.ll–BB.bb for galactic coordinates, and as **HHMMSS.ss+DDMMSS.s or HHMMSS.ss–DDMMSS.s for equatorial coordinates (without spaces)**; more or fewer fractional digits may be used as appropriate, but one should not omit the leading HH or ±DD. Coordinate names expressed in decimal degrees and J2000 should also explicitly include the J\""
   ]
  },
  {
   "cell_type": "code",
   "execution_count": 26,
   "metadata": {},
   "outputs": [
    {
     "name": "stdout",
     "output_type": "stream",
     "text": [
      "desgw-190510e\n",
      "DES J05h56m24.414s -30d28m17.9184s\n",
      "desgw-190510f\n",
      "DES J06h09m12.2702s -34d52m51.0672s\n",
      "desgw-190510h\n",
      "DES J05h51m02.8018s -27d57m19.4544s\n",
      "desgw-190510i\n",
      "DES J06h07m44.9923s -30d49m28.7112s\n",
      "desgw-190510j\n",
      "DES J06h09m14.0189s -35d08m59.0892s\n"
     ]
    }
   ],
   "source": [
    "#c = SkyCoord(ra=92.851901*u.degree, dec=-36.517915*u.degree, unit=(u.hourangle))\n",
    "bad = ['desgw-190510a', 'desgw-190510d', 'desgw-190510k']\n",
    "for key, val in has_host30kpcAP.iteritems():\n",
    "    #print key\n",
    "    if key not in bad:\n",
    "        df = val[1]\n",
    "        if key == 'desgw-190510i':\n",
    "            value_list = [455788150]\n",
    "            df = df[df.COADD_OBJECT_ID.isin(value_list)]\n",
    "        c = SkyCoord(ra=df['RA'].values*u.degree, dec=df['DEC'].values*u.degree, unit=(u.hourangle))\n",
    "        print key\n",
    "        print \"DES J\"+str(c.to_string('hmsdms')[0])\n",
    "    "
   ]
  },
  {
   "cell_type": "code",
   "execution_count": 14,
   "metadata": {},
   "outputs": [
    {
     "name": "stdout",
     "output_type": "stream",
     "text": [
      "desgw-190510c 0.00816273459783 97.6970834039 kpc\n",
      "   COADD_OBJECT_ID  MAG_ABS_I  MAG_ABS_R         RA        DEC  SFR_BEST  DNF_ZMEAN_SOF  DNF_ZSIGMA_SOF  MASS_BEST          D\n",
      "2        459792354 -20.070999 -19.959999  92.851901 -36.517915  -0.46222       0.201937         0.09831    9.10912  20.480238\n",
      "\n",
      "\n",
      "desgw-190510g 0.00925866525825 218.342460769 kpc\n",
      "   COADD_OBJECT_ID  MAG_ABS_I  MAG_ABS_R        RA       DEC  SFR_BEST  DNF_ZMEAN_SOF  DNF_ZSIGMA_SOF  MASS_BEST          D\n",
      "1        455492484 -20.556999    -20.476  92.46866 -34.09464  0.259115       0.574666        0.174249    9.43417  22.976484\n",
      "\n",
      "\n"
     ]
    }
   ],
   "source": [
    "dists = [0.0085]\n",
    "has_hostCandGkpc = {}\n",
    "for r in dists:\n",
    "    ra_min = [ra - r for ra in ra_cands]\n",
    "    ra_max = [ra + r for ra in ra_cands]\n",
    "    dec_min = [dec - r for dec in dec_cands]\n",
    "    dec_max = [dec + r for dec in dec_cands]\n",
    "#    i = 2 #6\n",
    "    l = [2,6]\n",
    "    for i in l: \n",
    "        #print names[i]\n",
    "        query = (\"SELECT a.COADD_OBJECT_ID, a.MAG_ABS_I, a.MAG_ABS_R, d.RA, d.DEC, a.SFR_BEST, d.DNF_ZMEAN_SOF,  d.DNF_ZSIGMA_SOF, a.MASS_BEST, d.MAG_AUTO_G d \"\n",
    "                 \"FROM Y3_GOLD_2_2 d, palmese.Y3A2_GALAXIES_STELLAR_MASS a \" \n",
    "             \"WHERE RA < \"+str(ra_max[i])+\"and RA > \"+str(ra_min[i])+\" \"\n",
    "             \"and DEC < \"+str(dec_max[i])+\" and DEC > \"+str(dec_min[i])+\" \"\n",
    "             #\"and d.DNF_ZMEAN_SOF < 0.2\"\n",
    "            \"and a.COADD_OBJECT_ID = d.COADD_OBJECT_ID;\"\n",
    "            )\n",
    "        df = con.query_to_pandas(query)\n",
    "\n",
    "        seps = {}\n",
    "        for index, row in df.iterrows():\n",
    "            seps.setdefault(index,[])\n",
    "            host = SkyCoord(row['RA'], row['DEC'], unit='degree')\n",
    "            cand = SkyCoord(ra_cands[i], dec_cands[i], unit='degree')\n",
    "            s = cand.separation(host)\n",
    "            seps[index].append(s)\n",
    "\n",
    "        minindex = [min(seps, key=seps.get)]\n",
    "        df = df[df.index.isin(minindex)]\n",
    "        df.to_csv(\"190510_hosts.csv\", mode='a', header=False)\n",
    "        #print df\n",
    "        #print \n",
    "        #c = SkyCoord(ra=df['RA'].values*u.degree, dec=df['DEC'].values*u.degree, unit=(u.hourangle))\n",
    "        #print \"DES J\"+str(c.to_string('hmsdms')[0])\n",
    "        #print\n",
    "        #print names[i], s.deg\n",
    "        #print df\n",
    "        #print \n",
    "        \n",
    "        has_hostCandGkpc[names[i]] = [s, df]\n",
    "#        done.append(names[i])\n",
    "        \n",
    "#        query = (\"select * from palmese.Y3A2_GALAXIES_STELLAR_MASS where COADD_OBJECT_ID = \"+str(df['COADD_OBJECT_ID'].values[0])+\";\")\n",
    "#        APdf = con.query_to_pandas(query)\n",
    "#        print APdf\n",
    "#         print\n",
    "#         print\n",
    "                \n",
    "for key, val in has_hostCandGkpc.iteritems():\n",
    "    hz = has_hostCandGkpc[key][1]['DNF_ZMEAN_SOF'].values[0]\n",
    "    cosmo = FlatLambdaCDM(H0=70, Om0=0.3)\n",
    "    ac = has_hostCandGkpc[key][0].to(u.arcsec)\n",
    "    \n",
    "    d_A = cosmo.angular_diameter_distance(z=hz)\n",
    "    distance_kpc = (ac * d_A).to(u.kpc, u.dimensionless_angles())\n",
    "\n",
    "    print key, val[0].deg, distance_kpc\n",
    "    print val[1]\n",
    "    print \n",
    "    print"
   ]
  },
  {
   "cell_type": "code",
   "execution_count": 10,
   "metadata": {},
   "outputs": [
    {
     "name": "stdout",
     "output_type": "stream",
     "text": [
      "desgw-190510b\n",
      "0 0.00402457265275\n",
      "1 0.00369997523829\n",
      "2 0.00627890582344\n",
      "3 0.00638114446135\n",
      "4 0.00315416916658\n",
      "5 0.00338891307785\n",
      "6 0.00358572179386\n"
     ]
    }
   ],
   "source": [
    "## cand b\n",
    "print names[1]\n",
    "luihdyra = [93.709231, 93.702448, 93.710397, 93.712208, 93.703155, 93.700391, 93.706672]\n",
    "luihdydec = [-36.979635, -36.984089, -36.984769, -36.982006, -36.977729, -36.979578, -36.983811]\n",
    "for i in range(len(luihdyra)):\n",
    "    host = SkyCoord(luihdyra[i], luihdydec[i], unit='degree')\n",
    "    cand = SkyCoord(ra_cands[1], dec_cands[1], unit='degree')\n",
    "    sep = cand.separation(host)\n",
    "    print i, sep.deg"
   ]
  },
  {
   "cell_type": "code",
   "execution_count": 21,
   "metadata": {},
   "outputs": [
    {
     "name": "stdout",
     "output_type": "stream",
     "text": [
      "0.00148800922655\n",
      "\n",
      "0.000616682559142\n",
      "\n",
      "0.000575870683128\n"
     ]
    }
   ],
   "source": [
    "#cand a -- 2MASX J06060625-3532351 (from y3gold: ang sep = 0.00203298)\n",
    "rahost, dechost = 91.526167, -35.543028\n",
    "i = 0\n",
    "host = SkyCoord(rahost, dechost, unit='degree')\n",
    "cand = SkyCoord(ra_cands[i], dec_cands[i], unit='degree')\n",
    "sep = cand.separation(host)\n",
    "print sep.deg\n",
    "print\n",
    "\n",
    "#cand d -- MRSS 363-017722 (from y3gold: ang sep = 0.00059697 deg)\n",
    "rahost, dechost = 87.311745, -35.956402\n",
    "i = 3\n",
    "host = SkyCoord(rahost, dechost, unit='degree')\n",
    "cand = SkyCoord(ra_cands[i], dec_cands[i], unit='degree')\n",
    "sep = cand.separation(host)\n",
    "print sep.deg\n",
    "print\n",
    "\n",
    "#cand k -- 2MASS J05483537-3559390 (from y3gold: [<Angle 0.00042447 deg>])\n",
    "rahost, dechost = 87.147510, -35.994156\n",
    "i = -1\n",
    "host = SkyCoord(rahost, dechost, unit='degree')\n",
    "cand = SkyCoord(ra_cands[i], dec_cands[i], unit='degree')\n",
    "sep = cand.separation(host)\n",
    "print sep.deg"
   ]
  },
  {
   "cell_type": "markdown",
   "metadata": {},
   "source": [
    "## gals from NED"
   ]
  },
  {
   "cell_type": "code",
   "execution_count": 4,
   "metadata": {},
   "outputs": [],
   "source": [
    "ned = pd.read_csv('S190510g_Update_galaxie_fromNED.csv')"
   ]
  },
  {
   "cell_type": "code",
   "execution_count": 7,
   "metadata": {},
   "outputs": [
    {
     "name": "stdout",
     "output_type": "stream",
     "text": [
      " desgw-190510a [<Angle 0.13891505 deg>]\n",
      "                     objname         ra        dec pretype         z      zunc     DistMpc    DistMod DistMethod    m_Ks  k_msig_k20fe       M_Ks  Merr_Ks  m_FUV  magerr_fuv  M_FUV  Merr_FUV     dP_dV      dP_dA\n",
      "144  2MASX J06064544-3535032  91.689292 -35.584194       G  0.032923  0.000103  137.087723  35.684994  Kinematic  12.502         0.093 -23.182995    0.093    NaN         NaN    NaN       NaN  0.000008  40.592823\n",
      "\n",
      "desgw-190510b [<Angle 0.12540741 deg>]\n",
      "                     objname         ra        dec pretype        z     zunc     DistMpc    DistMod DistMethod    m_Ks  k_msig_k20fe       M_Ks  Merr_Ks  m_FUV  magerr_fuv  M_FUV  Merr_FUV     dP_dV     dP_dA\n",
      "371  2MASX J06152614-3657295  93.858792 -36.958194       G  0.03345  0.00015  139.282089  35.719479  Kinematic  12.944         0.097 -22.775478    0.097    NaN         NaN    NaN       NaN  0.000002  9.462688\n",
      "\n",
      "desgw-190510c [<Angle 0.05461629 deg>]\n",
      "                     objname         ra        dec pretype         z     zunc     DistMpc    DistMod DistMethod    m_Ks  k_msig_k20fe       M_Ks  Merr_Ks  m_FUV  magerr_fuv  M_FUV  Merr_FUV     dP_dV      dP_dA\n",
      "283  2MASX J06112249-3634178  92.843708 -36.571583       G  0.039541  0.00015  164.644318  36.082733  Kinematic  11.648          0.08 -24.434734     0.08    NaN         NaN    NaN       NaN  0.000004  20.526176\n",
      "\n",
      "desgw-190510d [<Angle 0.35143712 deg>]\n",
      "                     objname         ra        dec pretype         z     zunc     DistMpc    DistMod DistMethod    m_Ks  k_msig_k20fe       M_Ks  Merr_Ks  m_FUV  magerr_fuv  M_FUV  Merr_FUV     dP_dV     dP_dA\n",
      "367  2MASX J05493484-3618027  87.395125 -36.300722       G  0.034941  0.00015  145.490448  35.814171  Kinematic  13.392         0.087 -22.422171    0.087    NaN         NaN    NaN       NaN  0.000002  9.316426\n",
      "\n",
      "desgw-190510e [<Angle 0.48564111 deg>]\n",
      "                          objname         ra        dec pretype         z     zunc     DistMpc    DistMod DistMethod  m_Ks  k_msig_k20fe  M_Ks  Merr_Ks    m_FUV  magerr_fuv      M_FUV  Merr_FUV     dP_dV      dP_dA\n",
      "162  GALEXASC J055729.75-300259.2  89.374125 -30.049528       G  0.028216  0.00015  117.488289  35.349972  Kinematic   NaN           NaN   NaN      NaN  18.9881    0.106373 -16.361872  0.106373  0.000007  38.442227\n",
      "\n",
      "desgw-190510f [<Angle 0.33498555 deg>]\n",
      "                     objname         ra        dec pretype         z      zunc     DistMpc    DistMod DistMethod  m_Ks  k_msig_k20fe       M_Ks  Merr_Ks  m_FUV  magerr_fuv  M_FUV  Merr_FUV     dP_dV      dP_dA\n",
      "213  2MASX J06100953-3509099  92.539708 -35.152778       G  0.037883  0.000183  157.740601  35.989716  Kinematic  12.7         0.073 -23.289715    0.073    NaN         NaN    NaN       NaN  0.000006  29.806336\n",
      "\n",
      "desgw-190510g [<Angle 0.06181909 deg>]\n",
      "      objname         ra        dec pretype         z      zunc  DistMpc    DistMod DistMethod   m_Ks  k_msig_k20fe      M_Ks  Merr_Ks  m_FUV  magerr_fuv  M_FUV  Merr_FUV     dP_dV      dP_dA\n",
      "289  NGC 2188  92.539708 -34.106207       G  0.002492  0.000013     7.41  29.349091     Median  11.61         0.065 -17.73909    0.065    NaN         NaN    NaN       NaN  0.000004  28.056425\n",
      "\n",
      "desgw-190510h [<Angle 0.26254545 deg>]\n",
      "                     objname         ra        dec pretype         z     zunc     DistMpc    DistMod DistMethod    m_Ks  k_msig_k20fe       M_Ks  Merr_Ks    m_FUV  magerr_fuv      M_FUV  Merr_FUV     dP_dV      dP_dA\n",
      "330  2MASX J05520746-2804085  88.031042 -28.069028       G  0.034938  0.00015  145.477951  35.813988  Kinematic  12.709         0.099 -23.104988    0.099  17.7311    0.061426 -18.082888  0.061426  0.000003  14.102473\n",
      "\n",
      "desgw-190510i [<Angle 0.31974055 deg>]\n",
      "                     objname         ra        dec pretype        z     zunc     DistMpc    DistMod DistMethod    m_Ks  k_msig_k20fe       M_Ks  Merr_Ks  m_FUV  magerr_fuv  M_FUV  Merr_FUV     dP_dV      dP_dA\n",
      "309  2MASX J06074575-3108402  91.940625 -31.144472       G  0.03878  0.00015  161.475616  36.040535  Kinematic  11.439         0.067 -24.601536    0.067    NaN         NaN    NaN       NaN  0.000003  17.172047\n",
      "\n",
      "desgw-190510j [<Angle 0.18949444 deg>]\n",
      "                     objname         ra        dec pretype         z      zunc     DistMpc    DistMod DistMethod  m_Ks  k_msig_k20fe       M_Ks  Merr_Ks  m_FUV  magerr_fuv  M_FUV  Merr_FUV     dP_dV      dP_dA\n",
      "213  2MASX J06100953-3509099  92.539708 -35.152778       G  0.037883  0.000183  157.740601  35.989716  Kinematic  12.7         0.073 -23.289715    0.073    NaN         NaN    NaN       NaN  0.000006  29.806336\n",
      "\n",
      "desgw-190510k [<Angle 0.29876065 deg>]\n",
      "            objname         ra      dec pretype         z     zunc    DistMpc    DistMod DistMethod    m_Ks  k_msig_k20fe       M_Ks  Merr_Ks  m_FUV  magerr_fuv  M_FUV  Merr_FUV     dP_dV     dP_dA\n",
      "456  ESO 363- G 024  86.842542 -35.8255       G  0.046315  0.00015  192.85051  36.426105  Kinematic  11.915         0.096 -24.511105    0.096    NaN         NaN    NaN       NaN  0.000001  8.166473\n",
      "\n"
     ]
    }
   ],
   "source": [
    "#ned.columns\n",
    "for i in range(len(ra_cands)):\n",
    "    seps = {}\n",
    "    for index, row in ned.iterrows():\n",
    "        seps.setdefault(index,[])\n",
    "        host = SkyCoord(row['ra'], row['dec'], unit='degree')\n",
    "        cand = SkyCoord(ra_cands[i], dec_cands[i], unit='degree')\n",
    "        seps[index].append(cand.separation(host))\n",
    "    minindex = [min(seps, key=seps.get)]\n",
    "    print names[i], seps[minindex[0]]\n",
    "    print ned[ned.index.isin(minindex)]\n",
    "    print "
   ]
  },
  {
   "cell_type": "markdown",
   "metadata": {},
   "source": [
    "## New query with no z limit"
   ]
  },
  {
   "cell_type": "code",
   "execution_count": 33,
   "metadata": {},
   "outputs": [],
   "source": [
    "queries_range001_noz = {}\n",
    "for i in range(len(names)):\n",
    "    query = (\"SELECT d.COADD_OBJECT_ID, d.RA, d.DEC, d.DNF_ZMEAN_SOF,d.MAG_AUTO_G FROM Y3_GOLD_2_2 d\" \n",
    "         \" WHERE  RA <  \"+str(ra_max[i])+\" and RA > \"+str(ra_min[i])+\" and DEC <  \"+str(dec_max[i])+\" \"\n",
    "         \"and DEC >  \"+str(dec_min[i])+\" \")\n",
    "#            \"and d.DNF_ZMEAN_SOF < 0.2\")\n",
    "    df = con.query_to_pandas(query)\n",
    "    queries_range001_noz[names[i]] = df\n",
    "    #print snids[i]\n",
    "    #print df"
   ]
  },
  {
   "cell_type": "code",
   "execution_count": 31,
   "metadata": {},
   "outputs": [
    {
     "name": "stdout",
     "output_type": "stream",
     "text": [
      "desgw-190510a\n",
      "   COADD_OBJECT_ID         RA        DEC  DNF_ZMEAN_SOF  MAG_AUTO_G\n",
      "0        456401049  91.524818 -35.542911       0.176671   20.416767\n",
      "1        456400268  91.526228 -35.542993       0.106310   17.170069\n",
      "\n",
      "desgw-190510c\n",
      "   COADD_OBJECT_ID         RA        DEC  DNF_ZMEAN_SOF  MAG_AUTO_G\n",
      "0        459792354  92.851901 -36.517915       0.201937   20.480238\n",
      "\n",
      "desgw-190510d\n",
      "   COADD_OBJECT_ID         RA        DEC  DNF_ZMEAN_SOF  MAG_AUTO_G\n",
      "0        453230080  87.309402 -35.952791       0.647132   24.940639\n",
      "1        453230153  87.311493 -35.956445       0.129511   20.507114\n",
      "2        453230342  87.313750 -35.956818       0.950838   24.646782\n",
      "3        453230415  87.314023 -35.958139       1.014820   24.228729\n",
      "4        453230453  87.314840 -35.958720       1.221239   24.921663\n",
      "5        453230501  87.315060 -35.959566       0.937447   99.000000\n",
      "\n",
      "desgw-190510e\n",
      "   COADD_OBJECT_ID         RA        DEC  DNF_ZMEAN_SOF  MAG_AUTO_G\n",
      "0        448690858  89.099708 -30.476820       0.876798   99.000000\n",
      "1        448690787  89.101454 -30.476886       0.226225   20.144850\n",
      "2        448690201  89.101725 -30.471644       0.163038   19.453684\n",
      "3        448690460  89.103398 -30.470479       0.407968   21.730982\n",
      "\n",
      "desgw-190510f\n",
      "   COADD_OBJECT_ID         RA        DEC  DNF_ZMEAN_SOF  MAG_AUTO_G\n",
      "0        457383939  92.294784 -34.881827       0.626305   24.653601\n",
      "1        457383969  92.295375 -34.882139       0.459213   24.938734\n",
      "2        457384291  92.297133 -34.888007       0.468338   23.972198\n",
      "3        457383998  92.297885 -34.882815       0.620200   24.383257\n",
      "\n",
      "desgw-190510g\n",
      "   COADD_OBJECT_ID         RA        DEC  DNF_ZMEAN_SOF  MAG_AUTO_G\n",
      "0        455491905  92.467863 -34.082638       4.405808   21.316814\n",
      "1        455492199  92.471136 -34.089573       4.405808   18.953337\n",
      "2        455492091  92.471377 -34.086298       4.405808   99.000000\n",
      "\n",
      "desgw-190510h\n",
      "   COADD_OBJECT_ID         RA        DEC  DNF_ZMEAN_SOF  MAG_AUTO_G\n",
      "0        454559466  87.759913 -27.959909       1.206608   24.157293\n",
      "1        454557474  87.761674 -27.955404       0.048781   16.823931\n",
      "2        454559136  87.764653 -27.958738       0.999208   21.409874\n",
      "\n",
      "desgw-190510i\n",
      "   COADD_OBJECT_ID         RA        DEC  DNF_ZMEAN_SOF  MAG_AUTO_G\n",
      "0        455788242  91.934583 -30.823879       0.815198   99.000000\n",
      "1        455788145  91.936663 -30.822126       0.162260   21.284563\n",
      "2        455788150  91.937468 -30.824642       0.193147   19.465042\n",
      "3        455788388  91.937592 -30.826789       0.747619   24.146425\n",
      "4        455788440  91.939914 -30.827745       0.938937   99.000000\n",
      "\n",
      "desgw-190510j\n",
      "   COADD_OBJECT_ID         RA        DEC  DNF_ZMEAN_SOF  MAG_AUTO_G\n",
      "0        457398298  92.304052 -35.150587       0.856235   23.534632\n",
      "1        457398039  92.306747 -35.145836       0.361526   22.518396\n",
      "2        457398070  92.306840 -35.146658       0.433111   22.894608\n",
      "3        457398088  92.307418 -35.147025       0.495024   23.051657\n",
      "4        457398118  92.308412 -35.149747       0.134002   20.038670\n",
      "\n",
      "desgw-190510k\n",
      "   COADD_OBJECT_ID         RA        DEC  DNF_ZMEAN_SOF  MAG_AUTO_G\n",
      "0        453232621  87.143045 -35.993793       1.353577   23.588587\n",
      "1        453232797  87.144908 -35.996668       0.917082   99.000000\n",
      "2        453232190  87.147309 -35.994162       0.066500   17.618853\n",
      "3        453232690  87.149010 -35.994834       0.691307   22.205143\n",
      "\n",
      "NO MATCH:  ['desgw-190510b']\n"
     ]
    }
   ],
   "source": [
    "## ra dec range = +/- 0.004 deg\n",
    "## no z limit\n",
    "## looking in y3 gold only\n",
    "\n",
    "nomatch_004_noz = []\n",
    "for name, val in queries_range004_noz.iteritems():\n",
    "    if val.empty != True:\n",
    "        print name\n",
    "        print val\n",
    "        print\n",
    "    else:\n",
    "        nomatch_004_noz.append(name)\n",
    "print \"NO MATCH: \", nomatch_004_noz"
   ]
  },
  {
   "cell_type": "markdown",
   "metadata": {},
   "source": [
    "## Below is scratch work"
   ]
  },
  {
   "cell_type": "code",
   "execution_count": 130,
   "metadata": {},
   "outputs": [
    {
     "name": "stdout",
     "output_type": "stream",
     "text": [
      "desgw-190510b\n",
      "Empty DataFrame\n",
      "Columns: [COADD_OBJECT_ID, RA, DEC, DNF_ZMEAN_SOF, MAG_AUTO_G]\n",
      "Index: []\n",
      "desgw-190510c\n",
      "    COADD_OBJECT_ID         RA        DEC  DNF_ZMEAN_SOF  MAG_AUTO_G\n",
      "0         457898307  92.802825 -36.521433       0.059485   18.396637\n",
      "1         457899146  92.803070 -36.534102       0.197813   21.486341\n",
      "2         459789529  92.811626 -36.468657      -0.057920   14.736027\n",
      "3         459794317  92.811709 -36.565629       0.056982   23.337381\n",
      "4         459790091  92.812351 -36.467893      -0.010248   15.419420\n",
      "5         459793306  92.813970 -36.542838       0.030003   15.834031\n",
      "6         459793294  92.815969 -36.537963       0.107263   21.400417\n",
      "7         459791590  92.824706 -36.505492       0.088445   19.403677\n",
      "8         459792191  92.824883 -36.533897       0.086703   15.740997\n",
      "9         459792871  92.826592 -36.559914       0.005462   15.324553\n",
      "10        459790378  92.840130 -36.477889       0.172814   19.461145\n",
      "11        459793927  92.848212 -36.552926       0.114415   21.849936\n",
      "12        459793622  92.855675 -36.546488       0.120402   19.938480\n",
      "13        459790797  92.859891 -36.484731       0.049186   18.509695\n",
      "14        459790727  92.861290 -36.482959       0.043543   19.021309\n",
      "15        459793342  92.886336 -36.540996       0.057503   18.425512\n",
      "16        459794055  92.887952 -36.558711       0.195619   20.551163\n",
      "17        459793259  92.891527 -36.539146       0.000597   18.114599\n",
      "18        459790289  92.892061 -36.475180       0.076183   17.322811\n",
      "19        459790612  92.893909 -36.482843      -0.061512   18.985802\n",
      "desgw-190510f\n",
      "    COADD_OBJECT_ID         RA        DEC  DNF_ZMEAN_SOF  MAG_AUTO_G\n",
      "0         457342791  92.255207 -34.922841       0.052820   18.916212\n",
      "1         457340416  92.255883 -34.883354       0.097472   19.176798\n",
      "2         456688130  92.257373 -34.844951       0.126207   21.235750\n",
      "3         456688597  92.261391 -34.854605       0.198045   19.545162\n",
      "4         457342632  92.262092 -34.918934       0.147681   19.998152\n",
      "5         457341746  92.262328 -34.905587       0.040299   17.979578\n",
      "6         457340725  92.266731 -34.888370       0.042218   18.437738\n",
      "7         456689886  92.266785 -34.874521       0.129407   20.174419\n",
      "8         456689638  92.268614 -34.873323       0.082411   19.579075\n",
      "9         457383530  92.271621 -34.876040       0.022021   18.544447\n",
      "10        457381293  92.273044 -34.835421       0.168590   19.364611\n",
      "11        457385997  92.287377 -34.922047       0.190926   20.649668\n",
      "12        457385566  92.291929 -34.914172       0.049159   19.007158\n",
      "13        457383459  92.292307 -34.874414       0.173598   21.428459\n",
      "14        457383340  92.301126 -34.880852       0.167560   18.732315\n",
      "15        457383615  92.309382 -34.881865       0.124423   19.525795\n",
      "16        457386258  92.312639 -34.927756       0.021060   18.868753\n",
      "17        457384061  92.313566 -34.885003       0.105330   19.669624\n",
      "18        457385910  92.324457 -34.923587       0.151252   19.730717\n",
      "19        457380961  92.324914 -34.841148      -0.009008   16.065195\n",
      "20        457383157  92.327247 -34.869890       0.053231   18.456656\n",
      "21        457382040  92.330840 -34.845754       0.088820   20.973537\n",
      "22        457383680  92.338785 -34.880017       0.072775   18.004274\n",
      "desgw-190510g\n",
      "    COADD_OBJECT_ID         RA        DEC  DNF_ZMEAN_SOF  MAG_AUTO_G\n",
      "0         455489505  92.421029 -34.042130       0.191810   20.298862\n",
      "1         455492565  92.422997 -34.098214       0.050063   18.358006\n",
      "2         455488910  92.426338 -34.037938       0.041306   17.285812\n",
      "3         455490700  92.431612 -34.063931       0.149862   18.545559\n",
      "4         455490803  92.442317 -34.066257       0.119575   19.341417\n",
      "5         455491078  92.442535 -34.067763       0.145610   19.497076\n",
      "6         455493371  92.443138 -34.111769       0.174462   19.225233\n",
      "7         455492785  92.450870 -34.100261       0.162390   21.137249\n",
      "8         455494142  92.452471 -34.128205       0.193900   20.216715\n",
      "9         455491431  92.455211 -34.073127       0.153903   21.829777\n",
      "10        455489642  92.459186 -34.041209       0.152973   21.729698\n",
      "11        455490295  92.462986 -34.056358       0.167973   19.501404\n",
      "12        455490270  92.472438 -34.054942       0.011616   18.034018\n",
      "13        455494335  92.474267 -34.128305       0.098923   18.277374\n",
      "14        455489423  92.480275 -34.038941       0.057305   19.064926\n",
      "15        457847986  92.483799 -34.037861       0.092805   17.407051\n",
      "16        457851229  92.488363 -34.119155       0.101775   19.644442\n",
      "17        457850922  92.490653 -34.111785       0.038131   18.853374\n",
      "18        457850890  92.495016 -34.110202       0.186044   21.600283\n",
      "19        457850705  92.499108 -34.105713       0.094462   19.441713\n",
      "20        457848865  92.502094 -34.057892       0.176079   18.978556\n",
      "21        457850114  92.505147 -34.099709       0.167308   19.401245\n",
      "22        457849000  92.508370 -34.067126      -0.014599   17.550070\n"
     ]
    }
   ],
   "source": [
    "range006_good = []\n",
    "for name, df in queries_range006.iteritems():\n",
    "    if name not in range001_good:\n",
    "        if name not in range004_good:\n",
    "            print name\n",
    "            print df\n",
    "            #if df.empty != True:\n",
    "#            range004_good.append(name)\n",
    "#print range004_good"
   ]
  },
  {
   "cell_type": "markdown",
   "metadata": {},
   "source": [
    "### Save out df to fits file:"
   ]
  },
  {
   "cell_type": "code",
   "execution_count": null,
   "metadata": {},
   "outputs": [],
   "source": [
    "result_file = fitsio.FITS('test_query.fits', 'rw')\n",
    "result_file.write(DF.to_records(index=False))\n",
    "result_file.close()"
   ]
  },
  {
   "cell_type": "code",
   "execution_count": 153,
   "metadata": {},
   "outputs": [
    {
     "name": "stdout",
     "output_type": "stream",
     "text": [
      "desgw-190510b\n",
      "   COADD_OBJECT_ID         RA        DEC  DNF_ZMEAN_SOF  MAG_AUTO_G\n",
      "0        459538842  93.425019 -37.228927        0.05218   19.322796\n"
     ]
    }
   ],
   "source": [
    "i = 1\n",
    "print names[i]\n",
    "query = (\"SELECT d.COADD_OBJECT_ID, d.RA, d.DEC, d.DNF_ZMEAN_SOF,d.MAG_AUTO_G FROM Y3_GOLD_2_2 d\" \n",
    "         \" WHERE  RA <  \"+str(ra_max[i])+\" and RA > \"+str(ra_min[i])+\" and DEC <  \"+str(dec_max[i])+\" \"\n",
    "         \"and DEC >  \"+str(dec_min[i])+\"and d.DNF_ZMEAN_SOF < 0.15\")\n",
    "df = con.query_to_pandas(query)\n",
    "print df ## r = 0.28"
   ]
  },
  {
   "cell_type": "code",
   "execution_count": 31,
   "metadata": {},
   "outputs": [
    {
     "data": {
      "text/html": [
       "<div>\n",
       "<style scoped>\n",
       "    .dataframe tbody tr th:only-of-type {\n",
       "        vertical-align: middle;\n",
       "    }\n",
       "\n",
       "    .dataframe tbody tr th {\n",
       "        vertical-align: top;\n",
       "    }\n",
       "\n",
       "    .dataframe thead th {\n",
       "        text-align: right;\n",
       "    }\n",
       "</style>\n",
       "<table border=\"1\" class=\"dataframe\">\n",
       "  <thead>\n",
       "    <tr style=\"text-align: right;\">\n",
       "      <th></th>\n",
       "      <th>COADD_OBJECT_ID</th>\n",
       "      <th>RA</th>\n",
       "      <th>DEC</th>\n",
       "      <th>DNF_ZMEAN_SOF</th>\n",
       "      <th>MAG_AUTO_G</th>\n",
       "    </tr>\n",
       "  </thead>\n",
       "  <tbody>\n",
       "    <tr>\n",
       "      <th>0</th>\n",
       "      <td>459792354</td>\n",
       "      <td>92.851901</td>\n",
       "      <td>-36.517915</td>\n",
       "      <td>0.201937</td>\n",
       "      <td>20.480238</td>\n",
       "    </tr>\n",
       "  </tbody>\n",
       "</table>\n",
       "</div>"
      ],
      "text/plain": [
       "   COADD_OBJECT_ID         RA        DEC  DNF_ZMEAN_SOF  MAG_AUTO_G\n",
       "0        459792354  92.851901 -36.517915       0.201937   20.480238"
      ]
     },
     "execution_count": 31,
     "metadata": {},
     "output_type": "execute_result"
    }
   ],
   "source": [
    "df"
   ]
  },
  {
   "cell_type": "code",
   "execution_count": 4,
   "metadata": {},
   "outputs": [],
   "source": [
    "from astropy.cosmology import FlatLambdaCDM\n",
    "from astropy import units as u\n",
    "import numpy as np"
   ]
  },
  {
   "cell_type": "code",
   "execution_count": 5,
   "metadata": {},
   "outputs": [
    {
     "name": "stdout",
     "output_type": "stream",
     "text": [
      "100.114992482 kpc\n"
     ]
    },
    {
     "data": {
      "text/latex": [
       "$201.62273 \\; \\mathrm{Mpc}$"
      ],
      "text/plain": [
       "<Quantity 201.62272531 Mpc>"
      ]
     },
     "execution_count": 5,
     "metadata": {},
     "output_type": "execute_result"
    }
   ],
   "source": [
    "cosmo = FlatLambdaCDM(H0=70, Om0=0.3)\n",
    "d_A = cosmo.angular_diameter_distance(z=0.05) #Mpc\n",
    "#arcsec = 15.0*u.arcsec ## 15 arcsec is the limit for being associated with the host\n",
    "# arcsec.to(u.deg) = 0.00416667 deg\n",
    "deg = 0.02845 * u.degree\n",
    "arcsec = deg.to(u.arcsec)\n",
    " \n",
    "distance_kpc = (arcsec * d_A).to(u.kpc, u.dimensionless_angles())\n",
    " \n",
    "print distance_kpc\n",
    "d_A"
   ]
  },
  {
   "cell_type": "code",
   "execution_count": 57,
   "metadata": {},
   "outputs": [
    {
     "name": "stdout",
     "output_type": "stream",
     "text": [
      "30.6907079931 arcsec\n",
      "0.511511799885 arcmin\n",
      "0.00852519666475 deg\n"
     ]
    }
   ],
   "source": [
    "distance_kpc = 30*u.kpc\n",
    "#distance_kpc = 0.1*u.Mpc\n",
    "arcsec = (distance_kpc / d_A).to(u.arcsec, u.dimensionless_angles())\n",
    "print arcsec\n",
    "arcmin = arcsec.to(u.arcmin)\n",
    "print arcmin\n",
    "deg = arcsec.to(u.degree)\n",
    "print deg"
   ]
  },
  {
   "cell_type": "code",
   "execution_count": 51,
   "metadata": {},
   "outputs": [
    {
     "data": {
      "text/plain": [
       "1.7188733853924698"
      ]
     },
     "execution_count": 51,
     "metadata": {},
     "output_type": "execute_result"
    }
   ],
   "source": [
    "np.rad2deg((0.1/200.))*60\n",
    "arcmin = 0.5*u.arcmin\n",
    "d"
   ]
  },
  {
   "cell_type": "code",
   "execution_count": 47,
   "metadata": {
    "scrolled": true
   },
   "outputs": [
    {
     "name": "stdout",
     "output_type": "stream",
     "text": [
      "1.0 arcsec\n",
      "0.0166666666667 arcmin\n",
      "0.000277777777778 deg\n",
      "30.0 arcsec\n"
     ]
    },
    {
     "data": {
      "text/latex": [
       "$0.0083333333 \\; \\mathrm{{}^{\\circ}}$"
      ],
      "text/plain": [
       "<Quantity 0.00833333 deg>"
      ]
     },
     "execution_count": 47,
     "metadata": {},
     "output_type": "execute_result"
    }
   ],
   "source": [
    "print arcsec\n",
    "arcmin = arcsec.to(u.arcmin)\n",
    "print arcmin\n",
    "deg = arcsec.to(u.degree)\n",
    "print deg\n",
    "\n",
    "arcsec = 30*u.arcsec\n",
    "print arcsec\n",
    "\n",
    "arcsec.to(u.deg)"
   ]
  },
  {
   "cell_type": "code",
   "execution_count": 18,
   "metadata": {},
   "outputs": [
    {
     "name": "stdout",
     "output_type": "stream",
     "text": [
      " desgw-190510a 91.526744 -35.541616\n",
      "desgw-190510b 93.704382 -36.980727\n",
      "desgw-190510c 92.851468 -36.517324\n",
      "desgw-190510d 87.311398 -35.955853\n",
      "desgw-190510e 89.100926 -30.473987\n",
      "desgw-190510f 92.294458 -34.884684\n",
      "desgw-190510g 92.468923 -34.08657\n",
      "desgw-190510h 87.762354 -27.956502\n",
      "desgw-190510i 91.936973 -30.824747\n",
      "desgw-190510j 92.307977 -35.149829\n",
      "desgw-190510k 87.146843 -35.994357\n"
     ]
    }
   ],
   "source": [
    "for i in range(len(names)):\n",
    "    print names[i], ra_cands[i], dec_cands[i]"
   ]
  },
  {
   "cell_type": "code",
   "execution_count": 29,
   "metadata": {},
   "outputs": [
    {
     "name": "stdout",
     "output_type": "stream",
     "text": [
      "desgw-190510e\n",
      "89.100926\n",
      "-30.473987\n"
     ]
    }
   ],
   "source": [
    "print candkeys[2]\n",
    "print candra[2]\n",
    "print canddec[2]"
   ]
  },
  {
   "cell_type": "code",
   "execution_count": 4,
   "metadata": {},
   "outputs": [
    {
     "ename": "SyntaxError",
     "evalue": "invalid syntax (<ipython-input-4-a8ab0a6d7b4e>, line 1)",
     "output_type": "error",
     "traceback": [
      "\u001b[0;36m  File \u001b[0;32m\"<ipython-input-4-a8ab0a6d7b4e>\"\u001b[0;36m, line \u001b[0;32m1\u001b[0m\n\u001b[0;31m    desgw-190510b\u001b[0m\n\u001b[0m                ^\u001b[0m\n\u001b[0;31mSyntaxError\u001b[0m\u001b[0;31m:\u001b[0m invalid syntax\n"
     ]
    }
   ],
   "source": [
    "desgw-190510b\n",
    "desgw-190510c\n",
    "desgw-190510g"
   ]
  },
  {
   "cell_type": "code",
   "execution_count": 14,
   "metadata": {},
   "outputs": [
    {
     "name": "stdout",
     "output_type": "stream",
     "text": [
      "5.06557229097 kpc\n"
     ]
    }
   ],
   "source": [
    "deg = 0.0014395 * u.degree\n",
    "arcsec = deg.to(u.arcsec)\n",
    "cosmo = FlatLambdaCDM(H0=70, Om0=0.3)\n",
    "d_A = cosmo.angular_diameter_distance(z=0.05)\n",
    "distance_kpc = (arcsec * d_A).to(u.kpc, u.dimensionless_angles())\n",
    " \n",
    "print distance_kpc"
   ]
  },
  {
   "cell_type": "code",
   "execution_count": 15,
   "metadata": {},
   "outputs": [
    {
     "name": "stdout",
     "output_type": "stream",
     "text": [
      "0.1063096895813942\n"
     ]
    }
   ],
   "source": [
    "has_host30kpcAP['desgw-190510a'][0].deg\n",
    "print has_host30kpcAP['desgw-190510a'][1]['DNF_ZMEAN_SOF'].values[0]\n"
   ]
  },
  {
   "cell_type": "code",
   "execution_count": 25,
   "metadata": {},
   "outputs": [
    {
     "ename": "AttributeError",
     "evalue": "'float' object has no attribute 'to'",
     "output_type": "error",
     "traceback": [
      "\u001b[0;31m---------------------------------------------------------------------------\u001b[0m",
      "\u001b[0;31mAttributeError\u001b[0m                            Traceback (most recent call last)",
      "\u001b[0;32m<ipython-input-25-026ddbc2ade1>\u001b[0m in \u001b[0;36m<module>\u001b[0;34m()\u001b[0m\n\u001b[1;32m      2\u001b[0m \u001b[0mhz\u001b[0m \u001b[0;34m=\u001b[0m \u001b[0mhas_host30kpcAP\u001b[0m\u001b[0;34m[\u001b[0m\u001b[0;34m'desgw-190510a'\u001b[0m\u001b[0;34m]\u001b[0m\u001b[0;34m[\u001b[0m\u001b[0;36m1\u001b[0m\u001b[0;34m]\u001b[0m\u001b[0;34m[\u001b[0m\u001b[0;34m'DNF_ZMEAN_SOF'\u001b[0m\u001b[0;34m]\u001b[0m\u001b[0;34m.\u001b[0m\u001b[0mvalues\u001b[0m\u001b[0;34m[\u001b[0m\u001b[0;36m0\u001b[0m\u001b[0;34m]\u001b[0m\u001b[0;34m\u001b[0m\u001b[0m\n\u001b[1;32m      3\u001b[0m \u001b[0;34m\u001b[0m\u001b[0m\n\u001b[0;32m----> 4\u001b[0;31m \u001b[0marcsec\u001b[0m \u001b[0;34m=\u001b[0m \u001b[0mhdeg\u001b[0m\u001b[0;34m.\u001b[0m\u001b[0mto\u001b[0m\u001b[0;34m(\u001b[0m\u001b[0mu\u001b[0m\u001b[0;34m.\u001b[0m\u001b[0marcsec\u001b[0m\u001b[0;34m)\u001b[0m\u001b[0;34m\u001b[0m\u001b[0m\n\u001b[0m\u001b[1;32m      5\u001b[0m \u001b[0mcosmo\u001b[0m \u001b[0;34m=\u001b[0m \u001b[0mFlatLambdaCDM\u001b[0m\u001b[0;34m(\u001b[0m\u001b[0mH0\u001b[0m\u001b[0;34m=\u001b[0m\u001b[0;36m70\u001b[0m\u001b[0;34m,\u001b[0m \u001b[0mOm0\u001b[0m\u001b[0;34m=\u001b[0m\u001b[0;36m0.3\u001b[0m\u001b[0;34m)\u001b[0m\u001b[0;34m\u001b[0m\u001b[0m\n\u001b[1;32m      6\u001b[0m \u001b[0;34m\u001b[0m\u001b[0m\n",
      "\u001b[0;31mAttributeError\u001b[0m: 'float' object has no attribute 'to'"
     ]
    }
   ],
   "source": [
    "hdeg = has_host30kpcAP['desgw-190510a'][0].deg\n",
    "hz = has_host30kpcAP['desgw-190510a'][1]['DNF_ZMEAN_SOF'].values[0]\n",
    "\n",
    "arcsec = hdeg.to(u.arcsec)\n",
    "cosmo = FlatLambdaCDM(H0=70, Om0=0.3)\n",
    "\n",
    "d_A = cosmo.angular_diameter_distance(z=hz)\n",
    "distance_kpc = (arcsec * d_A).to(u.kpc, u.dimensionless_angles())"
   ]
  },
  {
   "cell_type": "code",
   "execution_count": 38,
   "metadata": {},
   "outputs": [],
   "source": [
    "has_host30kpcAP['desgw-190510a'][0].arcsec  ##22.914035921612186 kpc\n",
    "x = cosmo.luminosity_distance(hz) "
   ]
  },
  {
   "cell_type": "code",
   "execution_count": 43,
   "metadata": {},
   "outputs": [],
   "source": []
  },
  {
   "cell_type": "code",
   "execution_count": 44,
   "metadata": {},
   "outputs": [],
   "source": [
    "distance_kpc = (has_host30kpcAP['desgw-190510a'][0].arcsec * x).to(u.kpc, u.dimensionless_angles())"
   ]
  },
  {
   "cell_type": "code",
   "execution_count": 45,
   "metadata": {},
   "outputs": [
    {
     "data": {
      "text/latex": [
       "$4935168.1 \\; \\mathrm{kpc}$"
      ],
      "text/plain": [
       "<Quantity 4935168.07844066 kpc>"
      ]
     },
     "execution_count": 45,
     "metadata": {},
     "output_type": "execute_result"
    }
   ],
   "source": [
    "distance_kpc"
   ]
  },
  {
   "cell_type": "code",
   "execution_count": null,
   "metadata": {},
   "outputs": [],
   "source": [
    "tan(theta/2) = size/2dist\n",
    "size = d_A * theta"
   ]
  },
  {
   "cell_type": "code",
   "execution_count": 8,
   "metadata": {},
   "outputs": [
    {
     "name": "stdout",
     "output_type": "stream",
     "text": [
      "29.9113334305 kpc\n"
     ]
    },
    {
     "data": {
      "text/plain": [
       "0.05102209622869852"
      ]
     },
     "execution_count": 8,
     "metadata": {},
     "output_type": "execute_result"
    }
   ],
   "source": [
    "deg = 0.0085 * u.degree\n",
    "arcsec = deg.to(u.arcsec)\n",
    "cosmo = FlatLambdaCDM(H0=70, Om0=0.3)\n",
    "d_A = cosmo.angular_diameter_distance(z=0.05)\n",
    "distance_kpc = (arcsec * d_A).to(u.kpc, u.dimensionless_angles())\n",
    " \n",
    "print distance_kpc\n",
    "\n",
    "from astropy.cosmology import z_at_value\n",
    "\n",
    "z_at_value(cosmo.luminosity_distance, 227*u.Mpc)"
   ]
  },
  {
   "cell_type": "markdown",
   "metadata": {},
   "source": [
    "## Calc P_one"
   ]
  },
  {
   "cell_type": "code",
   "execution_count": null,
   "metadata": {},
   "outputs": [],
   "source": [
    "multiply ligo map by 0.8 * 0.8 to get P_one. \n",
    "to get P_one = 0.999... \n",
    "what is the number N (how many events identical to this one do we need to get 0.999) that we need to multiply\n",
    "mulitpy by the prob of it being real (0.5) from https://arxiv.org/pdf/1609.09517.pdf\n",
    "\n",
    "P_i = SUM(e_spatial(0.8)*e_camera(0.8)*e_detection(robs plot)*e_bns(~.42))\n",
    "P_one = 1 - prod(1-P_i)\n"
   ]
  },
  {
   "cell_type": "code",
   "execution_count": 2,
   "metadata": {},
   "outputs": [],
   "source": [
    "import sys"
   ]
  },
  {
   "cell_type": "code",
   "execution_count": 12,
   "metadata": {},
   "outputs": [
    {
     "name": "stdout",
     "output_type": "stream",
     "text": [
      "0.6350400000000002\n",
      "0.8668041984000001\n",
      "0.951388860248064\n",
      "0.9822588784361335\n",
      "0.9935252002740512\n",
      "0.9976369570920177\n",
      "0.9991375838603028\n",
      "7\n"
     ]
    },
    {
     "ename": "SystemExit",
     "evalue": "",
     "output_type": "error",
     "traceback": [
      "An exception has occurred, use %tb to see the full traceback.\n",
      "\u001b[0;31mSystemExit\u001b[0m\n"
     ]
    }
   ],
   "source": [
    "for n in range(1,100):\n",
    "#    a = np.array([1,2,3])\n",
    "#    np.cumprod(a)\n",
    "    spatial = 0.90 #prob area enclosed\n",
    "    camera = 0.8 #fraction of the camera that is live\n",
    "    detection = 0.98\n",
    "    prob = 0.90 #probabilty of being a real source\n",
    "    P_i = (spatial * camera * detection * prob)\n",
    "    p_array = np.full(n, P_i)\n",
    "    P_one = 1 - np.cumprod(1-p_array)\n",
    "    print P_one[-1]\n",
    "    if P_one[-1]>=0.999:\n",
    "        print(n)\n",
    "        sys.exit()"
   ]
  },
  {
   "cell_type": "code",
   "execution_count": 14,
   "metadata": {},
   "outputs": [
    {
     "name": "stdout",
     "output_type": "stream",
     "text": [
      "0.85346824906\n"
     ]
    }
   ],
   "source": [
    "93, 98, 99, 99\n",
    "a = (0.8*0.98*.50*.93)\n",
    "b = (0.8*0.98*.50*.98)\n",
    "c = (0.8*0.98*.50*.99)\n",
    "d = (0.8*0.98*.50*.99)\n",
    "P_one = 1 - (1-a)*(1-b)*(1-c)*(1-d)\n",
    "print P_one"
   ]
  },
  {
   "cell_type": "code",
   "execution_count": 73,
   "metadata": {},
   "outputs": [
    {
     "data": {
      "text/plain": [
       "array([7, 7, 7, 7])"
      ]
     },
     "execution_count": 73,
     "metadata": {},
     "output_type": "execute_result"
    }
   ],
   "source": [
    "np.full(4, 7)"
   ]
  },
  {
   "cell_type": "code",
   "execution_count": 80,
   "metadata": {},
   "outputs": [],
   "source": [
    "a = np.cumprod([1,2,3])"
   ]
  },
  {
   "cell_type": "code",
   "execution_count": 82,
   "metadata": {},
   "outputs": [
    {
     "name": "stdout",
     "output_type": "stream",
     "text": [
      "[1 2 6]\n"
     ]
    }
   ],
   "source": [
    "print a"
   ]
  },
  {
   "cell_type": "code",
   "execution_count": 84,
   "metadata": {},
   "outputs": [
    {
     "data": {
      "text/plain": [
       "array([0.263424, 0.263424, 0.263424, 0.263424, 0.263424, 0.263424,\n",
       "       0.263424, 0.263424, 0.263424])"
      ]
     },
     "execution_count": 84,
     "metadata": {},
     "output_type": "execute_result"
    }
   ],
   "source": [
    "1-(1-p_array)"
   ]
  },
  {
   "cell_type": "code",
   "execution_count": null,
   "metadata": {},
   "outputs": [],
   "source": [
    "sigma_z = sqrt(sigma_gw^2 + sigma_gal^2) mean +/1 90%"
   ]
  },
  {
   "cell_type": "code",
   "execution_count": null,
   "metadata": {},
   "outputs": [],
   "source": [
    "dists = [0.0085]\n",
    "has_hostY6 = {}\n",
    "done = []\n",
    "for r in dists:\n",
    "    ra_min = [ra - r for ra in ra_cands]\n",
    "    ra_max = [ra + r for ra in ra_cands]\n",
    "    dec_min = [dec - r for dec in dec_cands]\n",
    "    dec_max = [dec + r for dec in dec_cands]\n",
    "    for i in range(2):\n",
    "        if names[i] in done:\n",
    "            continue\n",
    "        else:\n",
    "#             query = (\"SELECT d.COADD_OBJECT_ID, d.RA, d.DEC, d.DNF_ZMEAN_SOF,d.MAG_AUTO_G FROM Y3_GOLD_2_2 d\" \n",
    "#                      \" WHERE  RA <  \"+str(ra_max[i])+\" and RA > \"+str(ra_min[i])+\" and DEC <  \"+str(dec_max[i])+\" \"\n",
    "#                      \"and DEC >  \"+str(dec_min[i])+\" \"\n",
    "#                       \"and d.DNF_ZMEAN_SOF < 0.2\")\n",
    "            query = (\"SELECT a.COADD_OBJECT_ID, a.MAG_ABS_I, a.MAG_ABS_R, d.RA, d.DEC, a.SFR_BEST, a.MASS_BEST d \"\n",
    "             \"FROM Y6A1_FINALCUT_OBJECT d, palmese.Y3A2_GALAXIES_STELLAR_MASS a \" \n",
    "             \"WHERE RA < \"+str(ra_max[i])+\"and RA > \"+str(ra_min[i])+\" \"\n",
    "             \"and DEC < \"+str(dec_max[i])+\" and DEC > \"+str(dec_min[i])+\" \"\n",
    "             \"and a.DNF_ZMEAN_SOF < 0.2\"\n",
    "            #\"and a.COADD_OBJECT_ID = d.COADD_OBJECT_ID;\"\n",
    "            )\n",
    "            df = con.query_to_pandas(query)\n",
    "    \n",
    "            if df.empty != True:\n",
    "                seps = {}\n",
    "                for index, row in df.iterrows():\n",
    "                    seps.setdefault(index,[])\n",
    "                    host = SkyCoord(row['RA'], row['DEC'], unit='degree')\n",
    "                    cand = SkyCoord(ra_cands[i], dec_cands[i], unit='degree')\n",
    "                    s = cand.separation(host)\n",
    "                    seps[index].append(s)\n",
    "\n",
    "                minindex = [min(seps, key=seps.get)]\n",
    "                df = df[df.index.isin(minindex)]\n",
    "                #c = SkyCoord(ra=df['RA'].values*u.degree, dec=df['DEC'].values*u.degree, unit=(u.hourangle))\n",
    "                print names[i], s.deg\n",
    "                print df\n",
    "                print \n",
    "        \n",
    "        #if df.empty != True:\n",
    "                has_hostY6[names[i]] = [s, df]\n",
    "                done.append(names[i])"
   ]
  },
  {
   "cell_type": "code",
   "execution_count": 5,
   "metadata": {},
   "outputs": [],
   "source": [
    "query = \"select * from Y6A1_FINALCUT_OBJECT@dessci where HPIX_4096 = 83957674 ;\"\n",
    "df = con.query_to_pandas(query)"
   ]
  },
  {
   "cell_type": "code",
   "execution_count": 4,
   "metadata": {},
   "outputs": [],
   "source": [
    "#df"
   ]
  },
  {
   "cell_type": "code",
   "execution_count": 21,
   "metadata": {},
   "outputs": [],
   "source": [
    "c = SkyCoord('86.33527', '-26.84768', unit=(u.deg))"
   ]
  },
  {
   "cell_type": "code",
   "execution_count": 26,
   "metadata": {},
   "outputs": [
    {
     "ename": "TypeError",
     "evalue": "unsupported operand type(s) for *: 'SkyCoord' and 'Unit'",
     "output_type": "error",
     "traceback": [
      "\u001b[0;31m---------------------------------------------------------------------------\u001b[0m",
      "\u001b[0;31mTypeError\u001b[0m                                 Traceback (most recent call last)",
      "\u001b[0;32m<ipython-input-26-7ce1d5082e6f>\u001b[0m in \u001b[0;36m<module>\u001b[0;34m()\u001b[0m\n\u001b[0;32m----> 1\u001b[0;31m \u001b[0mc\u001b[0m\u001b[0;34m*\u001b[0m\u001b[0mu\u001b[0m\u001b[0;34m.\u001b[0m\u001b[0mhourangle\u001b[0m\u001b[0;34m\u001b[0m\u001b[0m\n\u001b[0m",
      "\u001b[0;31mTypeError\u001b[0m: unsupported operand type(s) for *: 'SkyCoord' and 'Unit'"
     ]
    }
   ],
   "source": [
    "c*u.hourangle"
   ]
  },
  {
   "cell_type": "code",
   "execution_count": 29,
   "metadata": {},
   "outputs": [],
   "source": [
    "a = (86.33527, -26.84768)*u.deg"
   ]
  },
  {
   "cell_type": "code",
   "execution_count": 30,
   "metadata": {},
   "outputs": [
    {
     "data": {
      "text/latex": [
       "$[5.7556847,~-1.7898453] \\; \\mathrm{{}^{h}}$"
      ],
      "text/plain": [
       "<Quantity [ 5.75568467, -1.78984533] hourangle>"
      ]
     },
     "execution_count": 30,
     "metadata": {},
     "output_type": "execute_result"
    }
   ],
   "source": [
    "a.to(u.hourangle)"
   ]
  },
  {
   "cell_type": "code",
   "execution_count": 9,
   "metadata": {},
   "outputs": [
    {
     "data": {
      "text/latex": [
       "$0^\\circ00{}^\\prime00.116{}^{\\prime\\prime}$"
      ],
      "text/plain": [
       "<Angle 3.22137254e-05 deg>"
      ]
     },
     "execution_count": 9,
     "metadata": {},
     "output_type": "execute_result"
    }
   ],
   "source": [
    "host = SkyCoord(93.704417, -36.980711, unit='degree')\n",
    "cand = SkyCoord(93.704382, -36.980727, unit='degree')\n",
    "cand.separation(host)"
   ]
  },
  {
   "cell_type": "code",
   "execution_count": 7,
   "metadata": {},
   "outputs": [
    {
     "name": "stdout",
     "output_type": "stream",
     "text": [
      "0d00m00.4458s\n"
     ]
    }
   ],
   "source": []
  },
  {
   "cell_type": "markdown",
   "metadata": {},
   "source": []
  }
 ],
 "metadata": {
  "kernelspec": {
   "display_name": "Python 2",
   "language": "python",
   "name": "python2"
  },
  "language_info": {
   "codemirror_mode": {
    "name": "ipython",
    "version": 2
   },
   "file_extension": ".py",
   "mimetype": "text/x-python",
   "name": "python",
   "nbconvert_exporter": "python",
   "pygments_lexer": "ipython2",
   "version": "2.7.15"
  }
 },
 "nbformat": 4,
 "nbformat_minor": 2
}
