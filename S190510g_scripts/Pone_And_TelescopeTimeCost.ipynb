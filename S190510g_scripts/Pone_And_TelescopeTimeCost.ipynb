{
 "cells": [
  {
   "cell_type": "code",
   "execution_count": 1,
   "metadata": {},
   "outputs": [],
   "source": [
    "import fitsio\n",
    "import easyaccess as ea\n",
    "import numpy as np\n",
    "from astropy.cosmology import FlatLambdaCDM\n",
    "from astropy import units as u\n",
    "from astropy.coordinates import SkyCoord\n",
    "import pandas as pd\n",
    "import sys\n",
    "import time\n",
    "import subprocess\n",
    "%matplotlib inline"
   ]
  },
  {
   "cell_type": "markdown",
   "metadata": {},
   "source": [
    "multiply ligo map by 0.8 * 0.8 to get P_one. \n",
    "to get P_one = 0.999... \n",
    "what is the number N (how many events identical to this one do we need to get 0.999) that we need to multiply\n",
    "mulitpy by the prob of it being real (0.5) from https://arxiv.org/pdf/1609.09517.pdf\n",
    "\n",
    "P_i = SUM(e_spatial(0.8)*e_camera(0.8)*e_detection(robs plot)*e_bns(~.42))\n",
    "P_one = 1 - prod(1-P_i)"
   ]
  },
  {
   "cell_type": "markdown",
   "metadata": {},
   "source": [
    "### load in Rob's efficiencies plot to get avg"
   ]
  },
  {
   "cell_type": "code",
   "execution_count": 9,
   "metadata": {},
   "outputs": [],
   "source": [
    "efficiencies = pd.read_csv('/data/des60.b/data/rmorgan/DES_Followups/events/GW190510/analysis/GW190510_cut_12_kn_efficiencies_table.csv')"
   ]
  },
  {
   "cell_type": "code",
   "execution_count": 10,
   "metadata": {},
   "outputs": [
    {
     "name": "stdout",
     "output_type": "stream",
     "text": [
      "MEAN: 0.4665003106872\n"
     ]
    }
   ],
   "source": [
    "print \"MEAN:\", efficiencies[\"EFFICIENCY\"].mean()"
   ]
  },
  {
   "cell_type": "markdown",
   "metadata": {},
   "source": [
    "## Do P_one calculation\n",
    "$P_i = \\Sigma_{\\rm spatial} \\times \\epsilon_{ \\rm camera} \\times \\epsilon_{\\rm efficiency} \\times \\epsilon_{\\rm real}$\n",
    "\n",
    "$P_{\\rm one} = 1 - \\prod_{i}^{N}(1 - P_i)$\n",
    "\n",
    "* **spatial**: the total prob of the even we covered\n",
    "* **camera**: fraction of decam that is live that night (80%)\n",
    "* **detection** (efficiency): value from Rob's plot -- our ability to detect the event\n",
    "    * Mean efficiency = 0.47\n",
    "    * val in blue square = 0.94\n",
    "    * 80s exposure time: g_band = 74%, z_band = 90%, avge = 82%\n",
    "* **prob**: the probability of this being a real event"
   ]
  },
  {
   "cell_type": "code",
   "execution_count": 15,
   "metadata": {},
   "outputs": [
    {
     "name": "stdout",
     "output_type": "stream",
     "text": [
      "0.991227598503019\n",
      "24\n"
     ]
    },
    {
     "ename": "SystemExit",
     "evalue": "",
     "output_type": "error",
     "traceback": [
      "An exception has occurred, use %tb to see the full traceback.\n",
      "\u001b[0;31mSystemExit\u001b[0m\n"
     ]
    }
   ],
   "source": [
    "for n in range(1,100): #100 is arbitrary\n",
    "\n",
    "    spatial = 0.65 ## we covered 0.65\n",
    "    camera = 0.8 \n",
    "    detection = 0.82 \n",
    "    prob = 0.42 #final lvc classification   \n",
    "    \n",
    "    P_i = (spatial * camera * detection * prob)\n",
    "    p_array = np.full(n, P_i)\n",
    "    P_one = 1 - np.cumprod(1-p_array)\n",
    "    if P_one[-1]>=0.99: #total probability limit\n",
    "        print P_one[-1] \n",
    "        print(n)\n",
    "        sys.exit()"
   ]
  },
  {
   "cell_type": "markdown",
   "metadata": {},
   "source": [
    "### Results:\n",
    "#### Case 1: Avg efficiency\n",
    "   * spatial = 0.65 #prob area enclosed\n",
    "   * camera = 0.8 #fraction of the camera that is live\n",
    "   * detection = 0.467\n",
    "   * prob = 0.42\n",
    "   * **50% (99%) = 7 (43) events**\n",
    "   \n",
    "#### Case 2: Blue component of 170817\n",
    "   * spatial = 0.65 #prob area enclosed\n",
    "   * camera = 0.8 #fraction of the camera that is live\n",
    "   * detection = 0.94\n",
    "   * prob = 0.42\n",
    "   * **50% (99%) = 4 (21) events**\n",
    "   \n",
    "#### Case 3: Double exp time (80s) \n",
    "   * spatial = 0.65 #prob area enclosed\n",
    "   * camera = 0.8 #fraction of the camera that is live\n",
    "   * detection = 0.82\n",
    "   * prob = 0.42\n",
    "   * **50% (99%) = 4 (24) events**"
   ]
  },
  {
   "cell_type": "markdown",
   "metadata": {},
   "source": [
    "## Looking at other bns/bhns events"
   ]
  },
  {
   "cell_type": "code",
   "execution_count": 25,
   "metadata": {},
   "outputs": [
    {
     "name": "stdout",
     "output_type": "stream",
     "text": [
      "S191205ah 0.93\n",
      "S190425z 0.99\n",
      "S190814bv 0.99\n"
     ]
    }
   ],
   "source": [
    "#{name: prob of being NS}\n",
    "eventsNS = {'S200213t': 0.63, 'S200105ae': 0.03, 'S191213g': 0.77, 'S191205ah': 0.93, 'S190930t': 0.74,\n",
    "            'S190910h': 0.61, 'S190901ap': 0.86, 'S190814bv': 0.99, 'S190718y': 0.02, 'S190510g': 0.42 ,\n",
    "            'S190426c': 0.49, 'S190425z': 0.99}\n",
    "eventbhns = {'S190923y': 0.68,'S190910d': 0.98 }\n",
    "#len(eventsNS)\n",
    "len(eventsNS)\n",
    "for key, val in eventsNS.iteritems():\n",
    "    if val > 0.9:\n",
    "        print key, val"
   ]
  },
  {
   "cell_type": "code",
   "execution_count": 38,
   "metadata": {},
   "outputs": [
    {
     "name": "stdout",
     "output_type": "stream",
     "text": [
      "0.9492373712104416\n"
     ]
    }
   ],
   "source": [
    "spatial = 0.90\n",
    "camera = 0.80\n",
    "detection = 0.75\n",
    "prob = [0.93, 0.99, 0.99, 0.98]\n",
    "pi = []\n",
    "for p in prob:\n",
    "    pi.append(spatial * camera * detection * p)\n",
    "p_array = np.full(len(prob), pi)\n",
    "P_one = 1 - np.cumprod(1-p_array)\n",
    "print P_one[-1]"
   ]
  },
  {
   "cell_type": "code",
   "execution_count": 39,
   "metadata": {},
   "outputs": [
    {
     "data": {
      "text/plain": [
       "0.5346000000000001"
      ]
     },
     "execution_count": 39,
     "metadata": {},
     "output_type": "execute_result"
    }
   ],
   "source": [
    "spatial * camera * detection * 0.99"
   ]
  },
  {
   "cell_type": "code",
   "execution_count": 44,
   "metadata": {},
   "outputs": [
    {
     "name": "stdout",
     "output_type": "stream",
     "text": [
      "magdiff 2.9553230351324977\n",
      "20.3753230351325\n",
      "9.319720704873957\n"
     ]
    }
   ],
   "source": [
    "# example using 190425 \n",
    "# dist = 156Mpc, prob = .99\n",
    "\n",
    "# how much more faint is the event - peak gw170817 was ~17mag # z 17.42 0.007\n",
    "dist = 156.\n",
    "magdiff = 2.5*np.log10(1./(40.**2.)) - 2.5*np.log10(1./(float(dist)**2.))\n",
    "print \"magdiff\", magdiff\n",
    "\n",
    "# what should our exposure time be\n",
    "mag = magdiff + 17.42\n",
    "print mag\n",
    "print exptime(mag, 'z', 0.7) #mag, band, t_eff\n"
   ]
  },
  {
   "cell_type": "code",
   "execution_count": 46,
   "metadata": {},
   "outputs": [
    {
     "name": "stdout",
     "output_type": "stream",
     "text": [
      "21.009970981618245\n"
     ]
    }
   ],
   "source": [
    "ourmag = depth(30, 0.7, 'z')\n",
    "print ourmag"
   ]
  },
  {
   "cell_type": "code",
   "execution_count": 23,
   "metadata": {},
   "outputs": [
    {
     "data": {
      "text/plain": [
       "0.29700000000000004"
      ]
     },
     "execution_count": 23,
     "metadata": {},
     "output_type": "execute_result"
    }
   ],
   "source": [
    "spatial = 0.50\n",
    "camera = 0.80 #fixed\n",
    "detection = 0.75 # efficiency \n",
    "prob = 0.99\n",
    "\n",
    "spatial * camera * detection * prob"
   ]
  },
  {
   "cell_type": "markdown",
   "metadata": {},
   "source": [
    "## Calc depth"
   ]
  },
  {
   "cell_type": "code",
   "execution_count": 2,
   "metadata": {},
   "outputs": [],
   "source": [
    "def depth(exptime, teff, band):\n",
    "    if band =='g':\n",
    "        const = 23.4\n",
    "    if band == 'r':\n",
    "        const = 23.1\n",
    "    if band == 'i':\n",
    "        const = 22.5\n",
    "    if band == 'z':\n",
    "        const = 21.8\n",
    "    if band == 'Y':\n",
    "        const = 20.3\n",
    "    maglim = const + 1.25*np.log10(teff*exptime/90.)\n",
    "    \n",
    "    return maglim\n",
    "\n",
    "def exptime(mag, band, teff):\n",
    "    if band =='g':\n",
    "        const = 23.4\n",
    "    if band == 'r':\n",
    "        const = 23.1\n",
    "    if band == 'i':\n",
    "        const = 22.5\n",
    "    if band == 'z':\n",
    "        const = 21.8\n",
    "    if band == 'Y':\n",
    "        const = 20.3\n",
    "        \n",
    "    exptime = (90.* (10 ** ((mag - const)/1.25)))/teff\n",
    "    return exptime"
   ]
  },
  {
   "cell_type": "code",
   "execution_count": 8,
   "metadata": {},
   "outputs": [
    {
     "data": {
      "text/plain": [
       "21.60637255001782"
      ]
     },
     "execution_count": 8,
     "metadata": {},
     "output_type": "execute_result"
    }
   ],
   "source": [
    "depth(90, 0.7, 'z')"
   ]
  },
  {
   "cell_type": "markdown",
   "metadata": {},
   "source": [
    "Like i think 8.5x further than gw170817 would make it like 5-6 mag fainter at peak, which would be 22-23 mag. And then from what i’ve seen in the sims, a KN-like object would fade about 2 mags in 4-5 days, so that would be down to 24th mag at best"
   ]
  },
  {
   "cell_type": "markdown",
   "metadata": {},
   "source": [
    "[flux] = [1/dist^2]  \n",
    "mag =27.5 - 2.5log10(flux)  \n",
    "\n",
    "ex:  \n",
    "object is 8.5x further than other object  \n",
    "mag = 27.5 - 2.5log10(1/(8.5^2)) = 32.147  \n",
    "compared to 27.5 - 2.5log10(1) = 27.5  \n",
    "4.6 mag fainter  \n",
    "\n",
    "--> 2.5log10(1/dist^2)"
   ]
  },
  {
   "cell_type": "code",
   "execution_count": 11,
   "metadata": {},
   "outputs": [
    {
     "name": "stdout",
     "output_type": "stream",
     "text": [
      "0.06626352115741023\n"
     ]
    }
   ],
   "source": [
    "mag = depth(90, 0.7, 'z')\n",
    "flux = 10 **((mag - 27.5)/-2.5)\n",
    "print 1/np.sqrt(flux)"
   ]
  },
  {
   "cell_type": "code",
   "execution_count": 22,
   "metadata": {},
   "outputs": [
    {
     "name": "stdout",
     "output_type": "stream",
     "text": [
      "2.9553230351324977\n"
     ]
    }
   ],
   "source": [
    "#0425 dist = 156Mpc\n",
    "#170817 dist = 40Mpc\n",
    "dist = 156.\n",
    "magdiff = 2.5*np.log10(1./(40.**2.)) - 2.5*np.log10(1./(float(dist)**2.))\n",
    "print magdiff"
   ]
  },
  {
   "cell_type": "code",
   "execution_count": null,
   "metadata": {},
   "outputs": [],
   "source": [
    "depth(90, 0.7, 'g')"
   ]
  },
  {
   "cell_type": "markdown",
   "metadata": {},
   "source": [
    "# Telescope time cost"
   ]
  },
  {
   "cell_type": "markdown",
   "metadata": {},
   "source": [
    "190425 - 156Mpc, 1378 sq. deg, 7461 sq. deg #dist, 50%, 90% area  \n",
    "S191205ah - 385Mpc, 692 sq. deg., 6378 sq. deg  \n",
    "S190814bv - 267Mpc, 5 sq. deg, 23 sq. deg  "
   ]
  },
  {
   "cell_type": "code",
   "execution_count": 47,
   "metadata": {},
   "outputs": [],
   "source": [
    "import math"
   ]
  },
  {
   "cell_type": "code",
   "execution_count": 48,
   "metadata": {},
   "outputs": [
    {
     "name": "stdout",
     "output_type": "stream",
     "text": [
      "1140.0 8.0\n",
      "tel time in hrs 0.316666666667\n"
     ]
    }
   ],
   "source": [
    "totalarea = 23. #deg^2\n",
    "n_exps = totalarea / 3 # 3 sq.deg. for each pointing\n",
    "slew_time = 30. #seconds\n",
    "n_point = 2.*math.ceil(n_exps)\n",
    "exp_time = 90. #seconds\n",
    "teltime = exp_time*n_exps + slew_time*(n_point -1.)\n",
    "print teltime, math.ceil(n_exps)\n",
    "print \"tel time in hrs\", teltime/3600"
   ]
  },
  {
   "cell_type": "markdown",
   "metadata": {},
   "source": [
    "## if we covered 50% localization at 80sec  \n",
    "50% 31 sq. deg"
   ]
  },
  {
   "cell_type": "code",
   "execution_count": 77,
   "metadata": {},
   "outputs": [
    {
     "name": "stdout",
     "output_type": "stream",
     "text": [
      "1786.66666667 11.0\n",
      "tel time in hrs 0.496296296296\n",
      "tel time in mins 29.7777777778\n"
     ]
    }
   ],
   "source": [
    "totalarea = 31. #deg^2\n",
    "n_exps = totalarea / 3 # 3 sq.deg. for each pointing\n",
    "slew_time = 30. #seconds\n",
    "n_flts = 3.\n",
    "n_point = n_flts*math.ceil(n_exps)\n",
    "exp_time = 80. #seconds\n",
    "teltime = exp_time*n_exps + slew_time*(n_point -1.)\n",
    "print teltime, math.ceil(n_exps)\n",
    "print \"tel time in hrs\", teltime/3600\n",
    "print \"tel time in mins\", teltime/60"
   ]
  },
  {
   "cell_type": "code",
   "execution_count": 122,
   "metadata": {},
   "outputs": [],
   "source": [
    "#time of first exp to last in mjd 58613.952740 - 58614.021992\n",
    "from astropy.time import Time, TimeDelta\n"
   ]
  },
  {
   "cell_type": "code",
   "execution_count": 131,
   "metadata": {},
   "outputs": [
    {
     "name": "stdout",
     "output_type": "stream",
     "text": [
      "2019-05-10 22:51:56.736\n",
      "2019-05-11 00:31:40.109\n",
      "99.7228800016\n"
     ]
    }
   ],
   "source": [
    "t = Time(58613.952740, format='mjd')\n",
    "t2 = Time(58614.021992, format='mjd')\n",
    "print t.iso\n",
    "print t2.iso\n",
    "dt = t2-t\n",
    "sec = dt.sec\n",
    "print sec/60"
   ]
  },
  {
   "cell_type": "code",
   "execution_count": 136,
   "metadata": {},
   "outputs": [
    {
     "name": "stdout",
     "output_type": "stream",
     "text": [
      "4010.0 11.0\n",
      "tel time in hrs 1.11388888889\n",
      "tel time in min 66.8333333333\n"
     ]
    }
   ],
   "source": [
    "totalarea = 31. #deg^2\n",
    "n_exps = totalarea / 3 # 3 sq.deg. for each pointing\n",
    "slew_time = 30. #seconds\n",
    "n_flts = 3.\n",
    "n_point = n_flts*math.ceil(n_exps)\n",
    "exp_time = 80. #seconds\n",
    "\n",
    "#teltime = exp_time*n_exps + slew_time*(n_point -1.)\n",
    "teltime = 40.*80. + slew_time*(28. -1.)\n",
    "print teltime, math.ceil(n_exps)\n",
    "print \"tel time in hrs\", teltime/3600\n",
    "print \"tel time in min\", teltime/60"
   ]
  },
  {
   "cell_type": "markdown",
   "metadata": {},
   "source": [
    "## read in exp info to get number of pointings"
   ]
  },
  {
   "cell_type": "code",
   "execution_count": 103,
   "metadata": {},
   "outputs": [],
   "source": [
    "df = pd.read_fwf('/data/des41.a/data/desgw/O3FULL/700_full.list',header=None)# usecols=(0,3,4,5)\n",
    "df.columns = ['expnum', 'date', 'mjd','ra','dec','band', 'exptime', 'propid', 'object', 'teff', 'comment']"
   ]
  },
  {
   "cell_type": "code",
   "execution_count": 104,
   "metadata": {},
   "outputs": [],
   "source": [
    "#find all the pairs that match ra, dec, and band                                                            \n",
    "df = df[df.duplicated(subset=['ra','dec'], keep=False)]\n",
    "grouped_df = df.groupby(['ra','dec'])\n",
    "gb = grouped_df.groups"
   ]
  },
  {
   "cell_type": "code",
   "execution_count": 107,
   "metadata": {},
   "outputs": [],
   "source": [
    "coadds = []\n",
    "for key, values in gb.iteritems():\n",
    "    #print values\n",
    "    coadds.append([df.ix[values]['expnum'].values, df.ix[values]['band'].values])"
   ]
  },
  {
   "cell_type": "code",
   "execution_count": 114,
   "metadata": {},
   "outputs": [
    {
     "name": "stdout",
     "output_type": "stream",
     "text": [
      "28\n",
      "[856758 856786] ['z' 'r']\n",
      "[856757 856785] ['z' 'r']\n",
      "[856761 856789] ['z' 'r']\n",
      "[856759 856787] ['z' 'r']\n"
     ]
    }
   ],
   "source": [
    "print len(coadds)\n",
    "for arr in coadds:\n",
    "    if len(arr[1])<3:\n",
    "        print arr[0], arr[1]"
   ]
  },
  {
   "cell_type": "code",
   "execution_count": null,
   "metadata": {},
   "outputs": [],
   "source": []
  },
  {
   "cell_type": "code",
   "execution_count": null,
   "metadata": {},
   "outputs": [],
   "source": []
  },
  {
   "cell_type": "markdown",
   "metadata": {},
   "source": [
    "# calc efficiency from csv"
   ]
  },
  {
   "cell_type": "code",
   "execution_count": 5,
   "metadata": {},
   "outputs": [],
   "source": [
    "#efficiencies = pd.read_csv(\"GW190510_cut_11_kn_efficiencies_table.csv\")\n",
    "efficiencies = pd.read_csv('/data/des60.b/data/rmorgan/DES_Followups/events/GW190510/analysis/GW190510_cut_12_kn_efficiencies_table.csv')\n"
   ]
  },
  {
   "cell_type": "code",
   "execution_count": 6,
   "metadata": {},
   "outputs": [
    {
     "name": "stdout",
     "output_type": "stream",
     "text": [
      "Index([u'Unnamed: 0', u'SNANA_INDEX', u'VK', u'LOGXLAN', u'LOGMASS',\n",
      "       u'EFFICIENCY', u'PEAKMAG_g', u'PEAKMAG_r', u'PEAKMAG_i', u'PEAKMAG_z'],\n",
      "      dtype='object')\n",
      "\n",
      "MEAN: 0.4665003106872\n"
     ]
    }
   ],
   "source": [
    "print efficiencies.columns\n",
    "print\n",
    "print \"MEAN:\", efficiencies[\"EFFICIENCY\"].mean()"
   ]
  },
  {
   "cell_type": "code",
   "execution_count": 5,
   "metadata": {},
   "outputs": [],
   "source": [
    "#efficiencies"
   ]
  },
  {
   "cell_type": "markdown",
   "metadata": {},
   "source": [
    "# g band"
   ]
  },
  {
   "cell_type": "code",
   "execution_count": 38,
   "metadata": {},
   "outputs": [
    {
     "data": {
      "text/plain": [
       "<matplotlib.axes._subplots.AxesSubplot at 0x7fd647bd2590>"
      ]
     },
     "execution_count": 38,
     "metadata": {},
     "output_type": "execute_result"
    },
    {
     "data": {
      "image/png": "[encoded data removed]",
      "text/plain": [
       "<Figure size 432x288 with 1 Axes>"
      ]
     },
     "metadata": {},
     "output_type": "display_data"
    }
   ],
   "source": [
    "#efficiencies.PEAKMAG_g.plot.hist()\n",
    "df = efficiencies[efficiencies['PEAKMAG_g'] > 0]\n",
    "df = df[df['PEAKMAG_g'] <99]\n",
    "df.PEAKMAG_g.plot.hist()"
   ]
  },
  {
   "cell_type": "code",
   "execution_count": 28,
   "metadata": {},
   "outputs": [
    {
     "name": "stdout",
     "output_type": "stream",
     "text": [
      "193.0\n",
      "303\n",
      "0.63696369637\n"
     ]
    }
   ],
   "source": [
    "#df.PEAKMAG_g.mean\n",
    "# mag 23.5 = snr 5.0 for 40sec exps\n",
    "p = 0.\n",
    "for mag in df.PEAKMAG_g:\n",
    "    if mag <= 23.5:\n",
    "        p+=1.\n",
    "print p\n",
    "print len(df.PEAKMAG_g)\n",
    "print p/len(df.PEAKMAG_g)"
   ]
  },
  {
   "cell_type": "code",
   "execution_count": 29,
   "metadata": {},
   "outputs": [
    {
     "name": "stdout",
     "output_type": "stream",
     "text": [
      "228.0\n",
      "303\n",
      "0.752475247525\n"
     ]
    }
   ],
   "source": [
    "# mag 23.99 = snr 5.0 for 90sec exps\n",
    "p = 0.\n",
    "for mag in df.PEAKMAG_g:\n",
    "    if mag <= 23.99:\n",
    "        p+=1.\n",
    "print p\n",
    "print len(df.PEAKMAG_g)\n",
    "print p/len(df.PEAKMAG_g)"
   ]
  },
  {
   "cell_type": "code",
   "execution_count": 39,
   "metadata": {},
   "outputs": [
    {
     "name": "stdout",
     "output_type": "stream",
     "text": [
      "225.0\n",
      "303\n",
      "0.742574257426\n"
     ]
    }
   ],
   "source": [
    "# mag 23.99 = snr 5.0 for 80sec exps\n",
    "p = 0.\n",
    "for mag in df.PEAKMAG_g:\n",
    "    if mag <= 23.91:\n",
    "        p+=1.\n",
    "print p\n",
    "print len(df.PEAKMAG_g)\n",
    "print p/len(df.PEAKMAG_g)"
   ]
  },
  {
   "cell_type": "markdown",
   "metadata": {},
   "source": [
    "# z band"
   ]
  },
  {
   "cell_type": "code",
   "execution_count": 40,
   "metadata": {},
   "outputs": [],
   "source": [
    "df = efficiencies[efficiencies['PEAKMAG_z'] > 0]\n",
    "df = df[df['PEAKMAG_z'] <99]"
   ]
  },
  {
   "cell_type": "code",
   "execution_count": 20,
   "metadata": {},
   "outputs": [
    {
     "data": {
      "text/plain": [
       "<matplotlib.axes._subplots.AxesSubplot at 0x7fd647d9f9d0>"
      ]
     },
     "execution_count": 20,
     "metadata": {},
     "output_type": "execute_result"
    },
    {
     "data": {
      "image/png": "[encoded data removed]",
      "text/plain": [
       "<Figure size 432x288 with 1 Axes>"
      ]
     },
     "metadata": {},
     "output_type": "display_data"
    }
   ],
   "source": [
    "df.PEAKMAG_z.plot.hist()"
   ]
  },
  {
   "cell_type": "code",
   "execution_count": 31,
   "metadata": {},
   "outputs": [
    {
     "name": "stdout",
     "output_type": "stream",
     "text": [
      "233.0\n",
      "304\n",
      "0.766447368421\n"
     ]
    }
   ],
   "source": [
    "# mag 22.3 = snr 5.0 for 40sec exps\n",
    "p = 0.\n",
    "for mag in df.PEAKMAG_z:\n",
    "    if mag <= 22.3:\n",
    "        p+=1.\n",
    "print p\n",
    "print len(df.PEAKMAG_g)\n",
    "print p/len(df.PEAKMAG_g)"
   ]
  },
  {
   "cell_type": "code",
   "execution_count": 33,
   "metadata": {},
   "outputs": [
    {
     "name": "stdout",
     "output_type": "stream",
     "text": [
      "281.0\n",
      "304\n",
      "0.924342105263\n"
     ]
    }
   ],
   "source": [
    "# mag 22.74 = snr 5.0 for 90sec exps\n",
    "p = 0.\n",
    "for mag in df.PEAKMAG_z:\n",
    "    if mag <= 22.74:\n",
    "        p+=1.\n",
    "print p\n",
    "print len(df.PEAKMAG_g)\n",
    "print p/len(df.PEAKMAG_g)"
   ]
  },
  {
   "cell_type": "code",
   "execution_count": 41,
   "metadata": {},
   "outputs": [
    {
     "name": "stdout",
     "output_type": "stream",
     "text": [
      "274.0\n",
      "304\n",
      "0.901315789474\n"
     ]
    }
   ],
   "source": [
    "# mag 22.74 = snr 5.0 for 80sec exps\n",
    "p = 0.\n",
    "for mag in df.PEAKMAG_z:\n",
    "    if mag <= 22.66:\n",
    "        p+=1.\n",
    "print p\n",
    "print len(df.PEAKMAG_g)\n",
    "print p/len(df.PEAKMAG_g)"
   ]
  },
  {
   "cell_type": "code",
   "execution_count": 24,
   "metadata": {},
   "outputs": [],
   "source": [
    "#df.PEAKMAG_z.mean"
   ]
  },
  {
   "cell_type": "markdown",
   "metadata": {},
   "source": [
    "# r band"
   ]
  },
  {
   "cell_type": "code",
   "execution_count": 34,
   "metadata": {},
   "outputs": [
    {
     "data": {
      "text/plain": [
       "<matplotlib.axes._subplots.AxesSubplot at 0x7fd647cbffd0>"
      ]
     },
     "execution_count": 34,
     "metadata": {},
     "output_type": "execute_result"
    },
    {
     "data": {
      "image/png": "[encoded data removed]",
      "text/plain": [
       "<Figure size 432x288 with 1 Axes>"
      ]
     },
     "metadata": {},
     "output_type": "display_data"
    }
   ],
   "source": [
    "efficiencies.PEAKMAG_r.plot.hist()\n",
    "# df = efficiencies[efficiencies['PEAKMAG_r'] > 0]\n",
    "# df = df[df['PEAKMAG_r'] <99]\n",
    "# df.PEAKMAG_r.plot.hist()"
   ]
  },
  {
   "cell_type": "code",
   "execution_count": 12,
   "metadata": {},
   "outputs": [
    {
     "name": "stdout",
     "output_type": "stream",
     "text": [
      "21.375552081\n",
      "296.1 296 296.0\n"
     ]
    }
   ],
   "source": [
    "magz = np.sort(df['PEAKMAG_z'].values)\n",
    "p = 0.9*(len(magz))\n",
    "print magz[int(p)]\n",
    "print p, int(p), np.floor(p)"
   ]
  },
  {
   "cell_type": "code",
   "execution_count": 27,
   "metadata": {},
   "outputs": [
    {
     "data": {
      "text/plain": [
       "<matplotlib.axes._subplots.AxesSubplot at 0x7fec0336c210>"
      ]
     },
     "execution_count": 27,
     "metadata": {},
     "output_type": "execute_result"
    },
    {
     "data": {
      "image/png": "[encoded data removed]",
      "text/plain": [
       "<Figure size 432x288 with 1 Axes>"
      ]
     },
     "metadata": {},
     "output_type": "display_data"
    }
   ],
   "source": [
    "df.PEAKMAG_i.plot.hist(bins=50)"
   ]
  },
  {
   "cell_type": "code",
   "execution_count": 9,
   "metadata": {},
   "outputs": [],
   "source": [
    "df = efficiencies[efficiencies['PEAKMAG_i'] > 0]"
   ]
  },
  {
   "cell_type": "code",
   "execution_count": 10,
   "metadata": {},
   "outputs": [],
   "source": [
    "magi = np.sort(df['PEAKMAG_i'].values)"
   ]
  },
  {
   "cell_type": "code",
   "execution_count": 15,
   "metadata": {},
   "outputs": [
    {
     "data": {
      "text/plain": [
       "65.4"
      ]
     },
     "execution_count": 15,
     "metadata": {},
     "output_type": "execute_result"
    }
   ],
   "source": [
    "0.2*(len(magi))"
   ]
  },
  {
   "cell_type": "code",
   "execution_count": 17,
   "metadata": {},
   "outputs": [
    {
     "data": {
      "text/plain": [
       "20.5594151069"
      ]
     },
     "execution_count": 17,
     "metadata": {},
     "output_type": "execute_result"
    }
   ],
   "source": [
    "magi[65]"
   ]
  },
  {
   "cell_type": "code",
   "execution_count": 45,
   "metadata": {},
   "outputs": [],
   "source": [
    "df = efficiencies[efficiencies['PEAKMAG_z'] > 0]\n",
    "df = df[df['PEAKMAG_z'] < 99.]"
   ]
  },
  {
   "cell_type": "code",
   "execution_count": 43,
   "metadata": {},
   "outputs": [
    {
     "data": {
      "text/plain": [
       "0.993920972644377"
      ]
     },
     "execution_count": 43,
     "metadata": {},
     "output_type": "execute_result"
    }
   ],
   "source": [
    "yes = 0.0\n",
    "for i in efficiencies['PEAKMAG_z'].values:\n",
    "    if i < 22.28: #40 sec exp\n",
    "        yes +=1.0\n",
    "yes/len(efficiencies['PEAKMAG_z'].values)"
   ]
  },
  {
   "cell_type": "code",
   "execution_count": null,
   "metadata": {},
   "outputs": [],
   "source": [
    "yes = 0.0\n",
    "for i in efficiencies['PEAKMAG_z'].values:\n",
    "    if i < 22.28: #40 sec exp\n",
    "        yes +=1.0\n",
    "yes/len(efficiencies['PEAKMAG_z'].values)"
   ]
  },
  {
   "cell_type": "code",
   "execution_count": 40,
   "metadata": {},
   "outputs": [
    {
     "name": "stdout",
     "output_type": "stream",
     "text": [
      "0.6785370462145851\n"
     ]
    }
   ],
   "source": [
    "ee = []\n",
    "for peakz, eff in zip(efficiencies['PEAKMAG_z'].values, efficiencies[\"EFFICIENCY\"].values):\n",
    "    if peakz < 21.28:\n",
    "         ee.append(eff)\n",
    "meanee = sum(ee)/len(ee)\n",
    "print meanee"
   ]
  },
  {
   "cell_type": "code",
   "execution_count": 4,
   "metadata": {},
   "outputs": [
    {
     "name": "stdout",
     "output_type": "stream",
     "text": [
      "MEAN: 20.474585595873556\n",
      "Max: 22.3964404638\n",
      "Min: 18.473422404\n"
     ]
    }
   ],
   "source": [
    "print \"MEAN:\", efficiencies[\"PEAKMAG_z\"].mean()\n",
    "print \"Max:\", efficiencies[\"PEAKMAG_z\"].max()\n",
    "print \"Min:\", efficiencies[\"PEAKMAG_z\"].min()"
   ]
  },
  {
   "cell_type": "code",
   "execution_count": 54,
   "metadata": {},
   "outputs": [
    {
     "name": "stdout",
     "output_type": "stream",
     "text": [
      "0.6686839108434465\n",
      "0.0572082379863 1.0\n"
     ]
    }
   ],
   "source": [
    "print efficiencies[\"EFFICIENCY\"].mean()\n",
    "print efficiencies[\"EFFICIENCY\"].min(), efficiencies[\"EFFICIENCY\"].max()"
   ]
  },
  {
   "cell_type": "code",
   "execution_count": 55,
   "metadata": {},
   "outputs": [
    {
     "data": {
      "text/plain": [
       "329"
      ]
     },
     "execution_count": 55,
     "metadata": {},
     "output_type": "execute_result"
    }
   ],
   "source": [
    "len(efficiencies['EFFICIENCY'].values)"
   ]
  },
  {
   "cell_type": "code",
   "execution_count": 42,
   "metadata": {},
   "outputs": [
    {
     "name": "stdout",
     "output_type": "stream",
     "text": [
      "0.565349544073\n"
     ]
    }
   ],
   "source": [
    "y = 0\n",
    "for i in efficiencies['EFFICIENCY'].values:\n",
    "    if i > 0.66:\n",
    "        y += 1.0\n",
    "print y/len(efficiencies['EFFICIENCY'].values)"
   ]
  },
  {
   "cell_type": "markdown",
   "metadata": {},
   "source": [
    "80 sec exposure --> mag 22.68 for snr = 5\n",
    "60 sec --> mag 22.52\n",
    "40 sec --> mag 22.3"
   ]
  }
 ],
 "metadata": {
  "kernelspec": {
   "display_name": "Python 2",
   "language": "python",
   "name": "python2"
  },
  "language_info": {
   "codemirror_mode": {
    "name": "ipython",
    "version": 2
   },
   "file_extension": ".py",
   "mimetype": "text/x-python",
   "name": "python",
   "nbconvert_exporter": "python",
   "pygments_lexer": "ipython2",
   "version": "2.7.15"
  }
 },
 "nbformat": 4,
 "nbformat_minor": 2
}
