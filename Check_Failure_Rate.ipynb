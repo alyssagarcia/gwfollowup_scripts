{
 "cells": [
  {
   "cell_type": "code",
   "execution_count": 1,
   "metadata": {},
   "outputs": [],
   "source": [
    "from glob import glob"
   ]
  },
  {
   "cell_type": "code",
   "execution_count": null,
   "metadata": {},
   "outputs": [],
   "source": [
    "dp700fail = glob('/data/des71.b/data/desgw/dp700backup/20190510/85*/dp700/*_*/*.FAIL')\n",
    "dp700tot = glob('/data/des71.b/data/desgw/dp700backup/20190510/85*/dp700/*_*/*.tar.gz')"
   ]
  },
  {
   "cell_type": "code",
   "execution_count": null,
   "metadata": {},
   "outputs": [],
   "source": [
    "dp1100fail = glob('/pnfs/des/persistent/gw/exp/20200*/9*/dp1100/i_*/*.FAIL')\n",
    "dp1100tot = glob('/pnfs/des/persistent/gw/exp/20200*/9*/dp1100/i_*/*.tar.gz')"
   ]
  },
  {
   "cell_type": "code",
   "execution_count": null,
   "metadata": {},
   "outputs": [],
   "source": [
    "dp800fail = glob('/pnfs/des/persistent/gw/exp/2019072*/8*/dp801/*_*/*.FAIL')\n",
    "dp800tot = glob('/pnfs/des/persistent/gw/exp/2019072*/8*/dp801/*_*/*.tar.gz')"
   ]
  },
  {
   "cell_type": "code",
   "execution_count": null,
   "metadata": {},
   "outputs": [],
   "source": [
    "dp1000fail = glob('/pnfs/des/persistent/gw/exp/201908*/8*/dp1000/*_*/*.FAIL')\n",
    "dp1000tot = glob('/pnfs/des/persistent/gw/exp/201908*/8*/dp1000/*_*/*.tar.gz')"
   ]
  },
  {
   "cell_type": "code",
   "execution_count": null,
   "metadata": {},
   "outputs": [],
   "source": [
    "print \"dp700\", len(dp700fail), len(dp700tot), float(len(dp700fail))/float(len(dp700tot))\n",
    "print\n",
    "print \"dp800\", len(dp800fail), len(dp800tot), float(len(dp800fail))/float(len(dp800tot))\n",
    "print\n",
    "print \"dp1000\", len(dp1000fail), len(dp1000tot), float(len(dp1000fail))/float(len(dp1000tot))\n",
    "print\n",
    "print \"dp1100\", len(dp1100fail), len(dp1100tot), float(len(dp1100fail))/float(len(dp1100tot))"
   ]
  },
  {
   "cell_type": "markdown",
   "metadata": {},
   "source": [
    "Results:  \n",
    "dp700 1265 4543 0.278450363196\n",
    "\n",
    "dp800 1447 6369 0.227194222013\n",
    "\n",
    "dp1000 3442 19599 0.175621205164\n",
    "\n",
    "dp1100 1360 6296 0.216010165184"
   ]
  },
  {
   "cell_type": "code",
   "execution_count": null,
   "metadata": {},
   "outputs": [],
   "source": [
    "dp700exps = glob('/data/des71.b/data/desgw/dp700backup/20190510/85*/dp700')\n",
    "dp800exps = glob('/pnfs/des/persistent/gw/exp/2019072*/8*/dp801')\n",
    "dp1000exps = glob('/pnfs/des/persistent/gw/exp/201908*/8*/dp1000')\n",
    "dp1100exps = glob('/pnfs/des/persistent/gw/exp/20200*/9*/dp1100')"
   ]
  },
  {
   "cell_type": "code",
   "execution_count": null,
   "metadata": {},
   "outputs": [],
   "source": [
    "print len(dp700exps)\n",
    "print len(dp800exps)\n",
    "print len(dp1000exps)\n",
    "print len(dp1100exps)"
   ]
  },
  {
   "cell_type": "markdown",
   "metadata": {},
   "source": [
    "# Comapre the failure rates with the avg t_eff"
   ]
  },
  {
   "cell_type": "code",
   "execution_count": null,
   "metadata": {},
   "outputs": [],
   "source": [
    "full = open('/data/des41.a/data/desgw/O3FULL/AGManual-newexps-full700.list', 'r')\n",
    "full700 = full.readlines()\n",
    "full.close()"
   ]
  },
  {
   "cell_type": "code",
   "execution_count": null,
   "metadata": {},
   "outputs": [],
   "source": [
    "teff = []\n",
    "for line in full700:\n",
    "    t = [f for f in line.split(' ') if f != ''][-2]\n",
    "    teff.append(float(t))\n",
    "print sum(teff)/len(teff)\n",
    "#print teff"
   ]
  },
  {
   "cell_type": "code",
   "execution_count": null,
   "metadata": {},
   "outputs": [],
   "source": [
    "full = open('/data/des41.a/data/desgw/O3FULL/800_full.list', 'r')\n",
    "full800 = full.readlines()\n",
    "full.close()"
   ]
  },
  {
   "cell_type": "code",
   "execution_count": null,
   "metadata": {},
   "outputs": [],
   "source": [
    "teff = []\n",
    "for line in full800:\n",
    "    t = [f for f in line.split(' ') if f != ''][9]\n",
    "    teff.append(float(t))\n",
    "print sum(teff)/len(teff)\n",
    "#print teff"
   ]
  },
  {
   "cell_type": "code",
   "execution_count": null,
   "metadata": {},
   "outputs": [],
   "source": [
    "full = open('/data/des41.a/data/desgw/O3FULL/full20190814.list', 'r')\n",
    "full1000 = full.readlines()\n",
    "full.close()\n",
    "\n",
    "teff = []\n",
    "for line in full1000:\n",
    "    t = [f for f in line.split(' ') if f != ''][9]\n",
    "    if t == 'NaN':\n",
    "        t = 0.\n",
    "    teff.append(float(t))\n",
    "print sum(teff)/len(teff)\n",
    "#print teff"
   ]
  },
  {
   "cell_type": "code",
   "execution_count": null,
   "metadata": {},
   "outputs": [],
   "source": [
    "full = open('/data/des41.a/data/desgw/O3FULL/1100_full.list', 'r')\n",
    "full1100 = full.readlines()\n",
    "full.close()\n",
    "\n",
    "teff = []\n",
    "for line in full1100:\n",
    "    t = [f for f in line.split(' ') if f != ''][9]\n",
    "    if t == 'NaN':\n",
    "        t = 0.\n",
    "    teff.append(float(t))\n",
    "print sum(teff)/len(teff)\n",
    "#print teff"
   ]
  },
  {
   "cell_type": "markdown",
   "metadata": {},
   "source": [
    "## print one easy to read summary"
   ]
  },
  {
   "cell_type": "code",
   "execution_count": null,
   "metadata": {},
   "outputs": [],
   "source": [
    "seasonfails = [dp700fail, dp800fail, dp1000fail, dp1100fail]\n",
    "seasontots = [dp700tot, dp800tot, dp1000tot, dp1100tot]\n",
    "\n",
    "for dpseason, dptot in zip(seasonfails, seasontots):\n",
    "    step2, step3, step18, stepX = [],[],[],[]\n",
    "    for f in dpseason:\n",
    "        step = f.split('/')[-1].split('_')[0]\n",
    "        if step == 'RUN18':\n",
    "            step18.append(f)\n",
    "        elif step == 'RUN02':\n",
    "            step2.append(f)\n",
    "        elif step == 'RUN03':\n",
    "            step3.append(f)\n",
    "        else:\n",
    "            stepX.append(f)\n",
    "    print \"season:\", dpseason[0].split('/')[-3]\n",
    "    print \"step2 \", len(step2), \"%fail:\", format(float(len(step2))/float(len(dpseason))*100,'.3f'), \"%tot:\", format(float(len(step2))/float(len(dptot))*100,'.3f')\n",
    "    print \"step3 \", len(step3), \"%fail:\",format(float(len(step3))/float(len(dpseason))*100, '.3f'), \"%tot:\", format(float(len(step3))/float(len(dptot))*100,'.3f')\n",
    "    print \"step18\", len(step18),\"%fail:\", format(float(len(step18))/float(len(dpseason))*100, '.3f'), \"%tot:\", format(float(len(step18))/float(len(dptot))*100,'.3f')\n",
    "    print \"other \", len(stepX), \"%fail:\",format(float(len(stepX))/float(len(dpseason))*100, '.3f'), \"%tot:\", format(float(len(stepX))/float(len(dptot))*100,'.3f')\n",
    "    print \"total fail\", len(dpseason)\n",
    "    print \"total tar\", len(dptot)\n",
    "    print"
   ]
  },
  {
   "cell_type": "markdown",
   "metadata": {},
   "source": [
    "season: dp700  \n",
    "step2  527 %fail: 41.660 %tot: 11.600  \n",
    "step3  19 %fail: 1.502 %tot: 0.418  \n",
    "step18 704 %fail: 55.652 %tot: 15.496  \n",
    "other  15 %fail: 1.186 %tot: 0.330  \n",
    "total fail 1265  \n",
    "total tar 4543  \n",
    "\n",
    "season: dp801  \n",
    "step2  781 %fail: 53.974 %tot: 12.263  \n",
    "step3  132 %fail: 9.122 %tot: 2.073  \n",
    "step18 327 %fail: 22.598 %tot: 5.134  \n",
    "other  207 %fail: 14.305 %tot: 3.250  \n",
    "total fail 1447  \n",
    "total tar 6369  \n",
    "\n",
    "season: dp1000  \n",
    "step2  76 %fail: 2.208 %tot: 0.388  \n",
    "step3  320 %fail: 9.297 %tot: 1.633  \n",
    "step18 2561 %fail: 74.404 %tot: 13.067  \n",
    "other  485 %fail: 14.091 %tot: 2.475  \n",
    "total fail 3442  \n",
    "total tar 19599  \n",
    "\n",
    "season: dp1100  \n",
    "step2  980 %fail: 72.059 %tot: 15.565  \n",
    "step3  58 %fail: 4.265 %tot: 0.921  \n",
    "step18 104 %fail: 7.647 %tot: 1.652  \n",
    "other  218 %fail: 16.029 %tot: 3.463  \n",
    "total fail 1360  \n",
    "total tar 6296  "
   ]
  },
  {
   "cell_type": "markdown",
   "metadata": {},
   "source": [
    "### Extra check about the other most common failure steps"
   ]
  },
  {
   "cell_type": "code",
   "execution_count": null,
   "metadata": {},
   "outputs": [],
   "source": [
    "step2, step3, step18, stepX = [],[],[],[]\n",
    "for f in dp700fail:\n",
    "    step = f.split('/')[-1].split('_')[0]\n",
    "    if step == 'RUN18':\n",
    "        step18.append(f)\n",
    "    elif step == 'RUN02':\n",
    "        step2.append(f)\n",
    "    elif step == 'RUN03':\n",
    "        step3.append(f)\n",
    "    else:\n",
    "        stepX.append(f)\n",
    "print \"step2\", len(step2)\n",
    "print \"step3\", len(step3)\n",
    "print \"step18\", len(step18)\n",
    "print \"other\", len(stepX)\n",
    "print \"total fail\", len(dp700fail)\n",
    "print \"total tar\", len(dp700tot)"
   ]
  }
 ],
 "metadata": {
  "kernelspec": {
   "display_name": "Python 2",
   "language": "python",
   "name": "python2"
  },
  "language_info": {
   "codemirror_mode": {
    "name": "ipython",
    "version": 2
   },
   "file_extension": ".py",
   "mimetype": "text/x-python",
   "name": "python",
   "nbconvert_exporter": "python",
   "pygments_lexer": "ipython2",
   "version": "2.7.15"
  }
 },
 "nbformat": 4,
 "nbformat_minor": 2
}
